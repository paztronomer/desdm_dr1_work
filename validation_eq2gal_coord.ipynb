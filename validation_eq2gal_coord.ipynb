{
 "cells": [
  {
   "cell_type": "code",
   "execution_count": 1,
   "metadata": {},
   "outputs": [],
   "source": [
    "import os\n",
    "import time\n",
    "import shlex\n",
    "import subprocess\n",
    "import gc\n",
    "import numpy as np\n",
    "import pandas as pd\n",
    "import matplotlib.pyplot as plt\n",
    "import vaex as vx\n",
    "import fitsio\n",
    "from astropy import units as u\n",
    "from astropy.coordinates import SkyCoord\n",
    "%matplotlib inline"
   ]
  },
  {
   "cell_type": "code",
   "execution_count": 2,
   "metadata": {
    "collapsed": true
   },
   "outputs": [],
   "source": [
    "# It doesn't properly work, because gets zero-filled tables\n",
    "def fits2h5():\n",
    "    for root, dirnm, filenm in os.walk(os.getcwd()):\n",
    "        for filename in filenm:\n",
    "            if (\"Y3A2_COADD_OBJECT_SUMMARY_COORDS_\" in filename):\n",
    "                fits_f = os.path.join(root, filename)\n",
    "                h5_f = fits_f.replace(\".fits\", \".hdf5\")\n",
    "                print(h5_f)\n",
    "                cmd = \"vaex convert file {0} {1}\".format(fits_f, h5_f)\n",
    "                cmd = shlex.split(cmd)\n",
    "                sp = subprocess.Popen(cmd, stdout=subprocess.PIPE)\n",
    "                outp = sp.communicate()\n",
    "                sp.wait()\n",
    "                print(outp)\n"
   ]
  },
  {
   "cell_type": "markdown",
   "metadata": {},
   "source": [
    "# Reading the FITS (downloaded using easyaccess)"
   ]
  },
  {
   "cell_type": "code",
   "execution_count": 3,
   "metadata": {},
   "outputs": [],
   "source": [
    "# Read all tables, it took about 12min in my laptop for 4 cols, running many other tasks at the same time\n",
    "# The files I get are named Y3A2_COADD_OBJECT_SUMMARY_COORDS_{000001 to 000015}.fits\n",
    "def get_all(columns):\n",
    "    if (not isinstance(columns, list)):\n",
    "        print(\"Must input a list of keys\")\n",
    "        return False\n",
    "    pattern = \"Y3A2_COADD_OBJECT_SUMMARY_COORDS_\"\n",
    "    tabls = []\n",
    "    counter = True\n",
    "    t0 = time.time()\n",
    "    for root, dirnm, filenm in os.walk(os.getcwd()):\n",
    "        for idx, f in enumerate(filenm):\n",
    "            if (pattern in f):\n",
    "                tabls.append(f)\n",
    "                hdu = fitsio.FITS(f)\n",
    "                if counter:\n",
    "                    r_arr = hdu[1].read()[columns]\n",
    "                    counter = False\n",
    "                else:\n",
    "                    r_arr = np.concatenate((r_arr, hdu[1].read()[columns]))\n",
    "                hdu.close()\n",
    "                print(\"{0} loaded\".format(f))\n",
    "    print(\"Elapsed time in reading the FITS: {0:.2f} min\".format((time.time() - t0) / 60.))\n",
    "    return r_arr"
   ]
  },
  {
   "cell_type": "markdown",
   "metadata": {},
   "source": [
    "# Plot the entire(!) dataset without using healpix or pre-binning"
   ]
  },
  {
   "cell_type": "code",
   "execution_count": null,
   "metadata": {},
   "outputs": [],
   "source": [
    "# Read into vaex. Ok, it's not optimal... better ways are read directly form FITS and h5, and from pandas\n",
    "aux_all = get_all([\"L\", \"B\"])\n",
    "gc.colect()"
   ]
  },
  {
   "cell_type": "code",
   "execution_count": null,
   "metadata": {
    "collapsed": true
   },
   "outputs": [],
   "source": [
    "ds = vx.from_arrays(x = r_arr[\"L\"], y=r_arr[\"B\"])\n",
    "ds.plot_widget(\"x\", \"y\", \n",
    "               colormap=\"bone_r\", \n",
    "               xlabel=r\"$l_{gal}$\", ylabel=r\"$b_{gal}$\", title=\"2D map of all objects on the footprint Y3A2\",\n",
    "               limits=((0, 360), (-90, -30)),\n",
    "              )"
   ]
  },
  {
   "cell_type": "code",
   "execution_count": 4,
   "metadata": {},
   "outputs": [
    {
     "ename": "NameError",
     "evalue": "name 'aux_all' is not defined",
     "output_type": "error",
     "traceback": [
      "\u001b[0;31m---------------------------------------------------------------------------\u001b[0m",
      "\u001b[0;31mNameError\u001b[0m                                 Traceback (most recent call last)",
      "\u001b[0;32m<ipython-input-4-21d8147c3a05>\u001b[0m in \u001b[0;36m<module>\u001b[0;34m()\u001b[0m\n\u001b[1;32m      1\u001b[0m \u001b[0;31m# Free memory\u001b[0m\u001b[0;34m\u001b[0m\u001b[0;34m\u001b[0m\u001b[0m\n\u001b[1;32m      2\u001b[0m \u001b[0mgc\u001b[0m\u001b[0;34m.\u001b[0m\u001b[0mcollect\u001b[0m\u001b[0;34m(\u001b[0m\u001b[0;34m)\u001b[0m\u001b[0;34m\u001b[0m\u001b[0m\n\u001b[0;32m----> 3\u001b[0;31m \u001b[0;32mdel\u001b[0m \u001b[0maux_all\u001b[0m\u001b[0;34m\u001b[0m\u001b[0m\n\u001b[0m",
      "\u001b[0;31mNameError\u001b[0m: name 'aux_all' is not defined"
     ]
    }
   ],
   "source": [
    "# Free memory\n",
    "gc.collect()\n",
    "del aux_all"
   ]
  },
  {
   "cell_type": "markdown",
   "metadata": {},
   "source": [
    "# Do the statistics for ra,dec -> l,b transformation"
   ]
  },
  {
   "cell_type": "markdown",
   "metadata": {},
   "source": [
    "## Option 1: use vaex to plot the entire sample"
   ]
  },
  {
   "cell_type": "code",
   "execution_count": 5,
   "metadata": {},
   "outputs": [
    {
     "name": "stdout",
     "output_type": "stream",
     "text": [
      "Y3A2_COADD_OBJECT_SUMMARY_COORDS_000001.fits loaded\n",
      "Y3A2_COADD_OBJECT_SUMMARY_COORDS_000002.fits loaded\n",
      "Y3A2_COADD_OBJECT_SUMMARY_COORDS_000003.fits loaded\n",
      "Y3A2_COADD_OBJECT_SUMMARY_COORDS_000004.fits loaded\n",
      "Y3A2_COADD_OBJECT_SUMMARY_COORDS_000005.fits loaded\n",
      "Y3A2_COADD_OBJECT_SUMMARY_COORDS_000006.fits loaded\n",
      "Y3A2_COADD_OBJECT_SUMMARY_COORDS_000007.fits loaded\n",
      "Y3A2_COADD_OBJECT_SUMMARY_COORDS_000008.fits loaded\n",
      "Y3A2_COADD_OBJECT_SUMMARY_COORDS_000009.fits loaded\n",
      "Y3A2_COADD_OBJECT_SUMMARY_COORDS_000010.fits loaded\n",
      "Y3A2_COADD_OBJECT_SUMMARY_COORDS_000011.fits loaded\n",
      "Y3A2_COADD_OBJECT_SUMMARY_COORDS_000012.fits loaded\n",
      "Y3A2_COADD_OBJECT_SUMMARY_COORDS_000013.fits loaded\n",
      "Y3A2_COADD_OBJECT_SUMMARY_COORDS_000014.fits loaded\n",
      "Y3A2_COADD_OBJECT_SUMMARY_COORDS_000015.fits loaded\n",
      "Elapsed time in reading the FITS: 11.95 min\n"
     ]
    }
   ],
   "source": [
    "# Load the data\n",
    "arr_coo = get_all([\"ALPHAWIN_J2000\", \"DELTAWIN_J2000\", \"L\", \"B\"])"
   ]
  },
  {
   "cell_type": "code",
   "execution_count": 6,
   "metadata": {},
   "outputs": [
    {
     "data": {
      "text/plain": [
       "0"
      ]
     },
     "execution_count": 6,
     "metadata": {},
     "output_type": "execute_result"
    }
   ],
   "source": [
    "gc.collect()"
   ]
  },
  {
   "cell_type": "code",
   "execution_count": null,
   "metadata": {
    "collapsed": true
   },
   "outputs": [],
   "source": [
    "# Transform it using astropy. This step is extremely slow... so it's better to go to Option 2 and \n",
    "# do it for a single file\n",
    "gal = SkyCoord(ra=arr_coo[\"ALPHAWIN_J2000\"]*u.degree, dec=arr_coo[\"DELTAWIN_J2000\"]*u.degree, frame='icrs').galactic\n",
    "print(\"Transformation complete\")"
   ]
  },
  {
   "cell_type": "code",
   "execution_count": null,
   "metadata": {
    "collapsed": true
   },
   "outputs": [],
   "source": [
    "# Read into vaex\n",
    "ds_gal = vx.from_arrays(L=arr_coo[\"L\"], B=arr_coo[\"B\"], L2=np.array(gal.l), B2=np.array(gal.b))"
   ]
  },
  {
   "cell_type": "code",
   "execution_count": null,
   "metadata": {
    "collapsed": true
   },
   "outputs": [],
   "source": [
    "gc.collect()\n",
    "plt.close(\"all\")"
   ]
  },
  {
   "cell_type": "code",
   "execution_count": null,
   "metadata": {
    "collapsed": true
   },
   "outputs": [],
   "source": [
    "# Do the plots\n",
    "if False:\n",
    "    ds_gal.plot([[\"L2\", \"L\"], [\"B2\", \"B\"]], \n",
    "                vmin=1,\n",
    "                aspect=\"equal\",\n",
    "                colormap=\"Spectral_r\", \n",
    "                background_color='white', \n",
    "                figsize=(12,5),\n",
    "                xlabel=[r\"l from ($\\alpha_{J2000}$, $\\delta_{J2000}$)\", r\"b from ($\\alpha_{J2000}$, $\\delta_{J2000}$)\"],\n",
    "                ylabel=[\"l\", \"b\"],\n",
    "                title=r\"($\\alpha_{J2000}$, $\\delta_{J2000}$) to ($l$, $b$). Subsample of ~2e7 objects\")\n",
    "    plt.savefig(\"lb_comparison.png\", format=\"png\", dpi=500)\n",
    "\n",
    "    ds_gal.plot1d(\"B-B2\", figsize=(8,5), \n",
    "                  xlabel=r\"$b$ - $b_{(\\alpha, \\delta)}$\", \n",
    "                  ylabel=\"N\",\n",
    "                  label=\"~2e7 objects\",\n",
    "                  color=\"red\", lw=3)\n",
    "    plt.savefig(\"b_hist.png\", format=\"png\", dpi=500)\n",
    "\n",
    "    ds_gal.plot1d(\"L-L2\", limits=[-0.0001,0.0001],\n",
    "                  figsize=(8,5), \n",
    "                  xlabel=r\"$l$ - $l_{(\\alpha, \\delta)}$\", \n",
    "                  ylabel=\"N\",\n",
    "                  color=\"royalblue\", lw=3)\n",
    "    plt.savefig(\"l_hist.png\", format=\"png\", dpi=500)"
   ]
  },
  {
   "cell_type": "markdown",
   "metadata": {},
   "source": [
    "## Option 2: using astropy tables, for 1 subsample"
   ]
  },
  {
   "cell_type": "code",
   "execution_count": null,
   "metadata": {
    "collapsed": true
   },
   "outputs": [],
   "source": [
    "# Read an unique FITS with astropy tables\n",
    "from astropy.io import fits\n",
    "from astropy.table import Table, Column\n",
    "hdu = fits.open(\"Y3A2_COADD_OBJECT_SUMMARY_COORDS_000015.fits\")\n",
    "tab = hdu[1].data\n",
    "tab.names\n",
    "tnew = Table()"
   ]
  },
  {
   "cell_type": "code",
   "execution_count": null,
   "metadata": {
    "collapsed": true
   },
   "outputs": [],
   "source": [
    "# Transform\n",
    "c_icrs = SkyCoord(ra=tab[\"ALPHAWIN_J2000\"]*u.degree, dec=tab[\"DELTAWIN_J2000\"]*u.degree, frame='icrs').galactic\n",
    "print(\"Transformation complete\")"
   ]
  },
  {
   "cell_type": "code",
   "execution_count": null,
   "metadata": {
    "collapsed": true
   },
   "outputs": [],
   "source": [
    "# Create a lighter table\n",
    "arr_l, arr_b = np.array(c_icrs.l), np.array(c_icrs.b)\n",
    "tnew[\"L\"] = tab[\"L\"]\n",
    "tnew[\"B\"] = tab[\"B\"]\n",
    "hdu.close()\n",
    "tnew[\"L2\"] = Column(arr_l, unit=\"degrees\")\n",
    "tnew[\"B2\"] = Column(arr_b, unit=\"degrees\")"
   ]
  },
  {
   "cell_type": "code",
   "execution_count": null,
   "metadata": {
    "collapsed": true
   },
   "outputs": [],
   "source": [
    "# Import to vaex\n",
    "ds = vx.from_astropy_table(tnew)"
   ]
  },
  {
   "cell_type": "code",
   "execution_count": null,
   "metadata": {
    "collapsed": true
   },
   "outputs": [],
   "source": [
    "gc.collect()\n",
    "plt.close(\"all\")"
   ]
  },
  {
   "cell_type": "code",
   "execution_count": null,
   "metadata": {
    "collapsed": true
   },
   "outputs": [],
   "source": [
    "# Do the plots\n",
    "if False:\n",
    "    ds.plot([[\"L2\", \"L\"], [\"B2\", \"B\"]], \n",
    "            vmin=1,\n",
    "            aspect=\"equal\",\n",
    "            colormap=\"Spectral_r\", \n",
    "            background_color='white', \n",
    "            figsize=(12,5),\n",
    "            xlabel=[r\"l from ($\\alpha_{J2000}$, $\\delta_{J2000}$)\", r\"b from ($\\alpha_{J2000}$, $\\delta_{J2000}$)\"],\n",
    "            ylabel=[\"l\", \"b\"],\n",
    "            title=r\"($\\alpha_{J2000}$, $\\delta_{J2000}$) to ($l$, $b$). Subsample of ~2e7 objects\")\n",
    "    plt.savefig(\"lb_comparison_subsample.png\", format=\"png\", dpi=500)\n",
    "\n",
    "    ds.plot1d(\"B-B2\", figsize=(8,5), \n",
    "              xlabel=r\"$b$ - $b_{(\\alpha, \\delta)}$\", \n",
    "              ylabel=\"N\",\n",
    "              label=\"~2e7 objects\",\n",
    "              color=\"red\", lw=3)\n",
    "    plt.savefig(\"b_hist_subsample.png\", format=\"png\", dpi=500)\n",
    "\n",
    "    ds.plot1d(\"L-L2\", limits=[-0.0001,0.0001],\n",
    "              figsize=(8,5), \n",
    "              xlabel=r\"$l$ - $l_{(\\alpha, \\delta)}$\", \n",
    "              ylabel=\"N\",\n",
    "              color=\"royalblue\", lw=3)\n",
    "    plt.savefig(\"l_hist_subsample.png\", format=\"png\", dpi=500)"
   ]
  }
 ],
 "metadata": {
  "kernelspec": {
   "display_name": "Python 3",
   "language": "python",
   "name": "python3"
  },
  "language_info": {
   "codemirror_mode": {
    "name": "ipython",
    "version": 3
   },
   "file_extension": ".py",
   "mimetype": "text/x-python",
   "name": "python",
   "nbconvert_exporter": "python",
   "pygments_lexer": "ipython3",
   "version": "3.6.3"
  },
  "widgets": {
   "application/vnd.jupyter.widget-state+json": {
    "state": {
     "024e107e6c494c34a6e5a838efebf583": {
      "model_module": "@jupyter-widgets/controls",
      "model_module_version": "1.0.0",
      "model_name": "DescriptionStyleModel",
      "state": {
       "description_width": ""
      }
     },
     "046fb56b6bdf4ef4b8cb8a2aaa9f3cb6": {
      "model_module": "bqplot",
      "model_module_version": "^0.3.0",
      "model_name": "LinearScaleModel",
      "state": {
       "max": 298.94630071695053,
       "min": 242.07014129563868,
       "stabilized": false
      }
     },
     "0691c59c1bdf444880cf81b3a9517d46": {
      "model_module": "bqplot",
      "model_module_version": "^0.3.0",
      "model_name": "AxisModel",
      "state": {
       "scale": "IPY_MODEL_046fb56b6bdf4ef4b8cb8a2aaa9f3cb6",
       "side": "bottom",
       "tick_values": {
        "type": null,
        "values": null
       }
      }
     },
     "104ad23cbeab4bedab59097b2222a9d4": {
      "model_module": "@jupyter-widgets/base",
      "model_module_version": "1.0.0",
      "model_name": "LayoutModel",
      "state": {}
     },
     "1342790f62064a2a8542d4771e3dd220": {
      "model_module": "@jupyter-widgets/base",
      "model_module_version": "1.0.0",
      "model_name": "LayoutModel",
      "state": {
       "max_width": "500px",
       "min_width": "125px",
       "width": "100%"
      }
     },
     "1b53f8e4d7944c60baa086f2bfcbf8e1": {
      "model_module": "@jupyter-widgets/base",
      "model_module_version": "1.0.0",
      "model_name": "LayoutModel",
      "state": {}
     },
     "2d5be8ba1c894361a299345552adcc49": {
      "model_module": "@jupyter-widgets/controls",
      "model_module_version": "1.0.0",
      "model_name": "DropdownModel",
      "state": {
       "_options_labels": [
        "replace",
        "and",
        "or",
        "xor",
        "subtract"
       ],
       "description": "select",
       "index": 0,
       "layout": "IPY_MODEL_bd1096ea0f4446a29e4692c7f49c87b6",
       "style": "IPY_MODEL_024e107e6c494c34a6e5a838efebf583"
      }
     },
     "2df50b80fbae4abfa08f680b51266568": {
      "model_module": "bqplot",
      "model_module_version": "^0.3.0",
      "model_name": "LinearScaleModel",
      "state": {
       "max": 1,
       "min": 0,
       "stabilized": false
      }
     },
     "320b1c51380b48a6900ff08a3b97cc6f": {
      "model_module": "@jupyter-widgets/base",
      "model_module_version": "1.0.0",
      "model_name": "LayoutModel",
      "state": {}
     },
     "3274a5da736845079e327c5b2c2bcba0": {
      "model_module": "bqplot",
      "model_module_version": "^0.3.0",
      "model_name": "LinearScaleModel",
      "state": {
       "max": 1,
       "min": 0,
       "stabilized": false
      }
     },
     "352de901307d45a398a3817c2e0a964e": {
      "model_module": "@jupyter-widgets/base",
      "model_module_version": "1.0.0",
      "model_name": "LayoutModel",
      "state": {
       "max_width": "500px",
       "width": "95%"
      }
     },
     "42333ea61d5747dd812691ae871f55a2": {
      "model_module": "@jupyter-widgets/base",
      "model_module_version": "1.0.0",
      "model_name": "LayoutModel",
      "state": {}
     },
     "4b9f9595ea8c46acb35df97a3a702fb2": {
      "model_module": "bqplot",
      "model_module_version": "^0.3.0",
      "model_name": "BrushSelectorModel",
      "state": {
       "color": "green",
       "x_scale": "IPY_MODEL_046fb56b6bdf4ef4b8cb8a2aaa9f3cb6",
       "y_scale": "IPY_MODEL_b9c15e59408342e59d09dc6b98d7db4c"
      }
     },
     "4e3bda5fd21c4210827a1612a17ee524": {
      "model_module": "@jupyter-widgets/controls",
      "model_module_version": "1.0.0",
      "model_name": "VBoxModel",
      "state": {
       "children": [
        "IPY_MODEL_abfb18d43fc546c59dfd6015d00841d5"
       ],
       "layout": "IPY_MODEL_42333ea61d5747dd812691ae871f55a2"
      }
     },
     "552320539d7541aeb154c8bad793d9ce": {
      "model_module": "@jupyter-widgets/controls",
      "model_module_version": "1.0.0",
      "model_name": "ButtonModel",
      "state": {
       "icon": "trash-o",
       "layout": "IPY_MODEL_f855366e8f2b4603837e970e12213c8b",
       "style": "IPY_MODEL_d19abae17fd54efbaa4091b6849e338c"
      }
     },
     "55eb193eca3f40aca9f0b6c4c3ced767": {
      "model_module": "bqplot",
      "model_module_version": "^0.3.0",
      "model_name": "PanZoomModel",
      "state": {
       "scales": {
        "x": [
         "IPY_MODEL_046fb56b6bdf4ef4b8cb8a2aaa9f3cb6"
        ],
        "y": [
         "IPY_MODEL_b9c15e59408342e59d09dc6b98d7db4c"
        ]
       }
      }
     },
     "56046032f4c149549448adae4bf8935f": {
      "model_module": "@jupyter-widgets/output",
      "model_module_version": "1.0.0",
      "model_name": "OutputModel",
      "state": {
       "layout": "IPY_MODEL_7257ecc0a07e4b829caac29ace30477b"
      }
     },
     "5652fa64d4c64cb7a5db6d5ad4a4459c": {
      "model_module": "@jupyter-widgets/controls",
      "model_module_version": "1.0.0",
      "model_name": "VBoxModel",
      "state": {
       "children": [
        "IPY_MODEL_f52f8b6bd6674fe2991adaeaf0e0c8e2",
        "IPY_MODEL_67c8a4847aed4cf8a7a86bcccc63efd5",
        "IPY_MODEL_e96423c170804c48acd2811cba5b860d",
        "IPY_MODEL_56046032f4c149549448adae4bf8935f"
       ],
       "layout": "IPY_MODEL_d2678e8a6d4e4fc3baa4a00f41281566"
      }
     },
     "57ac5713e0974c0e88e773ca256cefb1": {
      "model_module": "@jupyter-widgets/controls",
      "model_module_version": "1.0.0",
      "model_name": "HBoxModel",
      "state": {
       "children": [
        "IPY_MODEL_68336832a4084735969fee0273dec8a3",
        "IPY_MODEL_552320539d7541aeb154c8bad793d9ce"
       ],
       "layout": "IPY_MODEL_e6c743cf0cf44e38b8555a2b85e60b05"
      }
     },
     "5d0a7a904f1f43c39d352e4478f359da": {
      "model_module": "bqplot",
      "model_module_version": "^0.3.0",
      "model_name": "FigureModel",
      "state": {
       "_dom_classes": [],
       "axes": [
        "IPY_MODEL_0691c59c1bdf444880cf81b3a9517d46",
        "IPY_MODEL_86a4977da6e3496c885be94683ded6ea"
       ],
       "fig_margin": {
        "bottom": 30,
        "left": 60,
        "right": 0,
        "top": 0
       },
       "interaction": "IPY_MODEL_55eb193eca3f40aca9f0b6c4c3ced767",
       "layout": "IPY_MODEL_1342790f62064a2a8542d4771e3dd220",
       "marks": [
        "IPY_MODEL_882cf141e05846cf8d3e7197331e6fba",
        "IPY_MODEL_66a3c4b4a8c74f9190d687a9983dfaf1",
        "IPY_MODEL_a4913673dc6c4f68b068f79b2f75f0d9"
       ],
       "max_aspect_ratio": 6,
       "padding_y": 0,
       "scale_x": "IPY_MODEL_61a742ae687f46a69533b0d792812446",
       "scale_y": "IPY_MODEL_cd6359504c7243f1bdd97f4484a99a87"
      }
     },
     "61a742ae687f46a69533b0d792812446": {
      "model_module": "bqplot",
      "model_module_version": "^0.3.0",
      "model_name": "LinearScaleModel",
      "state": {
       "allow_padding": false,
       "max": 1,
       "min": 0,
       "stabilized": false
      }
     },
     "66a3c4b4a8c74f9190d687a9983dfaf1": {
      "model_module": "vaex.ext.bqplot",
      "model_module_version": "^0.3.0",
      "model_name": "ImageModel",
      "state": {
       "display_legend": false,
       "height": -10.480046052934824,
       "preserve_aspect_ratio": "",
       "scales": {
        "opacity": "IPY_MODEL_e8b846bd5f384839a5688c8541df4ee8",
        "rotation": "IPY_MODEL_2df50b80fbae4abfa08f680b51266568",
        "size": "IPY_MODEL_3274a5da736845079e327c5b2c2bcba0",
        "x": "IPY_MODEL_046fb56b6bdf4ef4b8cb8a2aaa9f3cb6",
        "y": "IPY_MODEL_b9c15e59408342e59d09dc6b98d7db4c"
       },
       "scales_metadata": {
        "x": {
         "dimension": "x",
         "orientation": "horizontal"
        },
        "y": {
         "dimension": "y",
         "orientation": "vertical"
        }
       },
       "selected": [],
       "src": "data:image/png;base64,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",
       "view_count": 1,
       "width": 56.876159421311854,
       "x": 242.07014129563868,
       "y": -37.04970286770049
      }
     },
     "67c8a4847aed4cf8a7a86bcccc63efd5": {
      "model_module": "@jupyter-widgets/controls",
      "model_module_version": "1.0.0",
      "model_name": "VBoxModel",
      "state": {
       "children": [
        "IPY_MODEL_4e3bda5fd21c4210827a1612a17ee524",
        "IPY_MODEL_5d0a7a904f1f43c39d352e4478f359da"
       ],
       "layout": "IPY_MODEL_1b53f8e4d7944c60baa086f2bfcbf8e1"
      }
     },
     "68336832a4084735969fee0273dec8a3": {
      "model_module": "@jupyter-widgets/controls",
      "model_module_version": "1.0.0",
      "model_name": "ToggleButtonsModel",
      "state": {
       "_options_labels": [
        "pan/zoom",
        "select"
       ],
       "button_style": "",
       "icons": [
        "arrows",
        "pencil-square-o"
       ],
       "index": 0,
       "layout": "IPY_MODEL_104ad23cbeab4bedab59097b2222a9d4",
       "style": "IPY_MODEL_f31ba2c28a3d4aee84611da6ae554b12",
       "tooltips": []
      }
     },
     "6f19e25e9d13429abf0a9e8c8e62a447": {
      "model_module": "@jupyter-widgets/controls",
      "model_module_version": "1.0.0",
      "model_name": "ButtonStyleModel",
      "state": {}
     },
     "7257ecc0a07e4b829caac29ace30477b": {
      "model_module": "@jupyter-widgets/base",
      "model_module_version": "1.0.0",
      "model_name": "LayoutModel",
      "state": {}
     },
     "86a4977da6e3496c885be94683ded6ea": {
      "model_module": "bqplot",
      "model_module_version": "^0.3.0",
      "model_name": "AxisModel",
      "state": {
       "orientation": "vertical",
       "scale": "IPY_MODEL_b9c15e59408342e59d09dc6b98d7db4c",
       "side": "left",
       "tick_values": {
        "type": null,
        "values": null
       }
      }
     },
     "882cf141e05846cf8d3e7197331e6fba": {
      "model_module": "bqplot",
      "model_module_version": "^0.3.0",
      "model_name": "ScatterModel",
      "state": {
       "_model_module": "bqplot",
       "_model_module_version": "^0.3.0",
       "_view_count": null,
       "_view_module": "bqplot",
       "_view_module_version": "^0.3.0",
       "apply_clip": true,
       "color": {
        "type": null,
        "values": null
       },
       "colors": [
        "DeepSkyBlue"
       ],
       "display_legend": false,
       "enable_hover": true,
       "hovered_style": {},
       "interactions": {
        "hover": "tooltip"
       },
       "labels": [],
       "names": {
        "type": null,
        "values": null
       },
       "opacity": {
        "type": null,
        "values": null
       },
       "preserve_domain": {},
       "rotation": {
        "type": "float",
        "values": [
         0,
         1,
         2,
         3,
         4,
         5,
         6,
         7,
         8,
         9
        ]
       },
       "scales": {
        "opacity": "IPY_MODEL_e8b846bd5f384839a5688c8541df4ee8",
        "rotation": "IPY_MODEL_2df50b80fbae4abfa08f680b51266568",
        "size": "IPY_MODEL_3274a5da736845079e327c5b2c2bcba0",
        "x": "IPY_MODEL_046fb56b6bdf4ef4b8cb8a2aaa9f3cb6",
        "y": "IPY_MODEL_b9c15e59408342e59d09dc6b98d7db4c"
       },
       "scales_metadata": {
        "color": {
         "dimension": "color"
        },
        "opacity": {
         "dimension": "opacity"
        },
        "rotation": {
         "dimension": "rotation"
        },
        "size": {
         "dimension": "size"
        },
        "skew": {
         "dimension": "skew"
        },
        "x": {
         "dimension": "x",
         "orientation": "horizontal"
        },
        "y": {
         "dimension": "y",
         "orientation": "vertical"
        }
       },
       "selected": [],
       "selected_style": {},
       "size": {
        "type": null,
        "values": null
       },
       "skew": {
        "type": null,
        "values": null
       },
       "tooltip": null,
       "tooltip_location": "mouse",
       "tooltip_style": {
        "opacity": 0.9
       },
       "unhovered_style": {},
       "unselected_style": {},
       "visible": false,
       "x": {
        "type": "float",
        "values": [
         0,
         1,
         2,
         3,
         4,
         5,
         6,
         7,
         8,
         9
        ]
       },
       "y": {
        "type": "float",
        "values": [
         0,
         1,
         4,
         9,
         16,
         25,
         36,
         49,
         64,
         81
        ]
       }
      }
     },
     "892c0dcedeac45f7b9a3cb266cbb0b95": {
      "model_module": "@jupyter-widgets/controls",
      "model_module_version": "1.0.0",
      "model_name": "HBoxModel",
      "state": {
       "layout": "IPY_MODEL_b40e5aaf1c67438abde882b370e21a5b"
      }
     },
     "a4913673dc6c4f68b068f79b2f75f0d9": {
      "model_module": "bqplot",
      "model_module_version": "^0.3.0",
      "model_name": "ScatterModel",
      "state": {
       "_model_module": "bqplot",
       "_model_module_version": "^0.3.0",
       "_view_count": null,
       "_view_module": "bqplot",
       "_view_module_version": "^0.3.0",
       "apply_clip": true,
       "color": {
        "type": null,
        "values": null
       },
       "colors": [
        "DeepSkyBlue"
       ],
       "display_legend": false,
       "enable_hover": true,
       "hovered_style": {},
       "interactions": {
        "hover": "tooltip"
       },
       "labels": [],
       "marker": "arrow",
       "names": {
        "type": null,
        "values": null
       },
       "opacity": {
        "type": null,
        "values": null
       },
       "preserve_domain": {},
       "rotation": {
        "type": "float",
        "values": [
         0,
         1,
         2,
         3,
         4,
         5,
         6,
         7,
         8,
         9
        ]
       },
       "scales": {
        "opacity": "IPY_MODEL_e8b846bd5f384839a5688c8541df4ee8",
        "rotation": "IPY_MODEL_2df50b80fbae4abfa08f680b51266568",
        "size": "IPY_MODEL_3274a5da736845079e327c5b2c2bcba0",
        "x": "IPY_MODEL_046fb56b6bdf4ef4b8cb8a2aaa9f3cb6",
        "y": "IPY_MODEL_b9c15e59408342e59d09dc6b98d7db4c"
       },
       "scales_metadata": {
        "color": {
         "dimension": "color"
        },
        "opacity": {
         "dimension": "opacity"
        },
        "rotation": {
         "dimension": "rotation"
        },
        "size": {
         "dimension": "size"
        },
        "skew": {
         "dimension": "skew"
        },
        "x": {
         "dimension": "x",
         "orientation": "horizontal"
        },
        "y": {
         "dimension": "y",
         "orientation": "vertical"
        }
       },
       "selected": [],
       "selected_style": {},
       "size": {
        "type": "float",
        "values": [
         0,
         1,
         2,
         3,
         4,
         5,
         6,
         7,
         8,
         9
        ]
       },
       "skew": {
        "type": null,
        "values": null
       },
       "tooltip": null,
       "tooltip_location": "mouse",
       "tooltip_style": {
        "opacity": 0.9
       },
       "unhovered_style": {},
       "unselected_style": {},
       "visible": false,
       "x": {
        "type": "float",
        "values": [
         0,
         1,
         2,
         3,
         4,
         5,
         6,
         7,
         8,
         9
        ]
       },
       "y": {
        "type": "float",
        "values": [
         0,
         1,
         4,
         9,
         16,
         25,
         36,
         49,
         64,
         81
        ]
       }
      }
     },
     "abfb18d43fc546c59dfd6015d00841d5": {
      "model_module": "@jupyter-widgets/controls",
      "model_module_version": "1.0.0",
      "model_name": "VBoxModel",
      "state": {
       "children": [
        "IPY_MODEL_57ac5713e0974c0e88e773ca256cefb1",
        "IPY_MODEL_892c0dcedeac45f7b9a3cb266cbb0b95"
       ],
       "layout": "IPY_MODEL_c439e8e43ddb45e5b2bb01e054b4d035"
      }
     },
     "ad96c0ea187f48618c8208cbc4e2bc07": {
      "model_module": "@jupyter-widgets/base",
      "model_module_version": "1.0.0",
      "model_name": "WidgetModel",
      "state": {
       "_view_module": null,
       "_view_module_version": "",
       "smooth_post": null,
       "smooth_pre": null,
       "vcount_limits": null,
       "vx": "",
       "vy": "",
       "vz": "",
       "w": null,
       "what": "count(*)",
       "x": "L",
       "y": "B",
       "z": null
      }
     },
     "b2bfa2b4dc494e3e9d855ceef9719929": {
      "model_module": "@jupyter-widgets/controls",
      "model_module_version": "1.0.0",
      "model_name": "ButtonModel",
      "state": {
       "icon": "refresh",
       "layout": "IPY_MODEL_f01b4988dad44c9e9c459cbd9fdd9bbf",
       "style": "IPY_MODEL_6f19e25e9d13429abf0a9e8c8e62a447"
      }
     },
     "b40e5aaf1c67438abde882b370e21a5b": {
      "model_module": "@jupyter-widgets/base",
      "model_module_version": "1.0.0",
      "model_name": "LayoutModel",
      "state": {}
     },
     "b9c15e59408342e59d09dc6b98d7db4c": {
      "model_module": "bqplot",
      "model_module_version": "^0.3.0",
      "model_name": "LinearScaleModel",
      "state": {
       "max": -37.04970286770049,
       "min": -47.52974892063531,
       "stabilized": false
      }
     },
     "bd1096ea0f4446a29e4692c7f49c87b6": {
      "model_module": "@jupyter-widgets/base",
      "model_module_version": "1.0.0",
      "model_name": "LayoutModel",
      "state": {}
     },
     "c439e8e43ddb45e5b2bb01e054b4d035": {
      "model_module": "@jupyter-widgets/base",
      "model_module_version": "1.0.0",
      "model_name": "LayoutModel",
      "state": {}
     },
     "cd6359504c7243f1bdd97f4484a99a87": {
      "model_module": "bqplot",
      "model_module_version": "^0.3.0",
      "model_name": "LinearScaleModel",
      "state": {
       "allow_padding": false,
       "max": 1,
       "min": 0,
       "stabilized": false
      }
     },
     "d19abae17fd54efbaa4091b6849e338c": {
      "model_module": "@jupyter-widgets/controls",
      "model_module_version": "1.0.0",
      "model_name": "ButtonStyleModel",
      "state": {}
     },
     "d2678e8a6d4e4fc3baa4a00f41281566": {
      "model_module": "@jupyter-widgets/base",
      "model_module_version": "1.0.0",
      "model_name": "LayoutModel",
      "state": {}
     },
     "e6c743cf0cf44e38b8555a2b85e60b05": {
      "model_module": "@jupyter-widgets/base",
      "model_module_version": "1.0.0",
      "model_name": "LayoutModel",
      "state": {}
     },
     "e763060c2c904bf9b7f0dd386391ea4b": {
      "model_module": "@jupyter-widgets/controls",
      "model_module_version": "1.0.0",
      "model_name": "ProgressStyleModel",
      "state": {
       "description_width": ""
      }
     },
     "e8b846bd5f384839a5688c8541df4ee8": {
      "model_module": "bqplot",
      "model_module_version": "^0.3.0",
      "model_name": "LinearScaleModel",
      "state": {
       "max": 1,
       "min": 0,
       "stabilized": false
      }
     },
     "e96423c170804c48acd2811cba5b860d": {
      "model_module": "@jupyter-widgets/controls",
      "model_module_version": "1.0.0",
      "model_name": "FloatProgressModel",
      "state": {
       "description": "progress",
       "layout": "IPY_MODEL_352de901307d45a398a3817c2e0a964e",
       "max": 1,
       "style": "IPY_MODEL_e763060c2c904bf9b7f0dd386391ea4b"
      }
     },
     "f01b4988dad44c9e9c459cbd9fdd9bbf": {
      "model_module": "@jupyter-widgets/base",
      "model_module_version": "1.0.0",
      "model_name": "LayoutModel",
      "state": {}
     },
     "f31ba2c28a3d4aee84611da6ae554b12": {
      "model_module": "@jupyter-widgets/controls",
      "model_module_version": "1.0.0",
      "model_name": "ToggleButtonsStyleModel",
      "state": {
       "_model_module": "@jupyter-widgets/controls",
       "button_width": ""
      }
     },
     "f52f8b6bd6674fe2991adaeaf0e0c8e2": {
      "model_module": "@jupyter-widgets/controls",
      "model_module_version": "1.0.0",
      "model_name": "VBoxModel",
      "state": {
       "layout": "IPY_MODEL_320b1c51380b48a6900ff08a3b97cc6f"
      }
     },
     "f855366e8f2b4603837e970e12213c8b": {
      "model_module": "@jupyter-widgets/base",
      "model_module_version": "1.0.0",
      "model_name": "LayoutModel",
      "state": {}
     }
    },
    "version_major": 2,
    "version_minor": 0
   }
  }
 },
 "nbformat": 4,
 "nbformat_minor": 2
}
