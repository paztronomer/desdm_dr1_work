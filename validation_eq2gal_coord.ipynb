{
 "cells": [
  {
   "cell_type": "code",
   "execution_count": 1,
   "metadata": {
    "collapsed": true
   },
   "outputs": [],
   "source": [
    "import os\n",
    "import shlex\n",
    "import subprocess\n",
    "import numpy as np\n",
    "import pandas as pd\n",
    "import matplotlib.pyplot as plt\n",
    "import vaex as vx\n",
    "%matplotlib inline"
   ]
  },
  {
   "cell_type": "code",
   "execution_count": null,
   "metadata": {},
   "outputs": [],
   "source": []
  },
  {
   "cell_type": "code",
   "execution_count": 2,
   "metadata": {
    "collapsed": true
   },
   "outputs": [],
   "source": [
    "# It doesn't properly work, because gets zer-filled tables\n",
    "def fits2h5():\n",
    "    for root, dirnm, filenm in os.walk(os.getcwd()):\n",
    "        for filename in filenm:\n",
    "            if (\"Y3A2_COADD_OBJECT_SUMMARY_COORDS_\" in filename):\n",
    "                fits_f = os.path.join(root, filename)\n",
    "                h5_f = fits_f.replace(\".fits\", \".hdf5\")\n",
    "                print(h5_f)\n",
    "                cmd = \"vaex convert file {0} {1}\".format(fits_f, h5_f)\n",
    "                cmd = shlex.split(cmd)\n",
    "                sp = subprocess.Popen(cmd, stdout=subprocess.PIPE)\n",
    "                outp = sp.communicate()\n",
    "                sp.wait()\n",
    "                print(outp)\n"
   ]
  },
  {
   "cell_type": "code",
   "execution_count": 5,
   "metadata": {},
   "outputs": [
    {
     "data": {
      "application/javascript": [
       "define(\"vaex.ext.bqplot\", [\"jupyter-js-widgets\", \"bqplot\", \"underscore\"],\n",
       "       function(widgets, bqplot, _) {\n",
       "    \"use strict\";\n",
       "/*\n",
       "widgets.BoxView.prototype.remove_original = widgets.BoxView.prototype.remove\n",
       "widgets.BoxView.prototype.remove = function() {\n",
       "    console.log(\"remove monkey patch\")\n",
       "    if(this.children_views)\n",
       "        this.children_views.remove()\n",
       "    if(!this._is_removed) // protect against inf loop, if we monkey patch twice (during dev that can happen)\n",
       "        this.remove_original()\n",
       "    else\n",
       "        this._is_removed = true\n",
       "}*/\n",
       "\n",
       "    var Image = bqplot.Mark.extend({\n",
       "\n",
       "        render: function() {\n",
       "            var base_render_promise = Image.__super__.render.apply(this);\n",
       "            var el = this.d3el || this.el;\n",
       "            window.last_el = el;\n",
       "            window.last_image = this;\n",
       "            this.im = el.append(\"image\")\n",
       "                .attr(\"class\", \"dot_img\")\n",
       "                .attr(\"xlink:href\", this.model.get('src'))\n",
       "                .attr(\"x\", 0) //this.model.get('x'))\n",
       "                .attr(\"y\", 0) //this.model.get('y'))\n",
       "                .attr(\"width\", 1)//this.model.get('width'))\n",
       "                .attr(\"height\", 1)// this.model.get('height'))\n",
       "                .attr(\"preserveAspectRatio\", this.model.get('preserve_aspect_ratio'));\n",
       "\n",
       "            this.width = this.parent.plotarea_width;\n",
       "            this.height = this.parent.plotarea_height;\n",
       "            this.map_id = widgets.uuid();\n",
       "            this.display_el_classes = [\"event_layer\"];\n",
       "            var that = this;\n",
       "            this.event_metadata = {\n",
       "            \"mouse_over\": {\n",
       "                \"msg_name\": \"hover\",\n",
       "                \"lookup_data\": false,\n",
       "                \"hit_test\": true\n",
       "            },\n",
       "            \"legend_clicked\":  {\n",
       "                \"msg_name\": \"legend_click\",\n",
       "                \"hit_test\": true\n",
       "            },\n",
       "            \"element_clicked\": {\n",
       "                \"msg_name\": \"element_click\",\n",
       "                \"lookup_data\": false,\n",
       "                \"hit_test\": true\n",
       "            },\n",
       "            \"parent_clicked\": {\n",
       "                \"msg_name\": \"background_click\",\n",
       "                \"hit_test\": false\n",
       "            }}\n",
       "            console.log('listen to...')\n",
       "            this.is_removed = false;\n",
       "            this.model.set(\"view_count\", this.model.get(\"view_count\")+1)\n",
       "            this.model.save_changes()\n",
       "            return base_render_promise.then(function() {\n",
       "                console.log(\"promise...\")\n",
       "                that.event_listeners = {};\n",
       "                that.create_listeners();\n",
       "                console.log(\"drawing...\")\n",
       "                that.draw();\n",
       "            });\n",
       "        },\n",
       "        remove: function() {\n",
       "            var result = Image.__super__.remove.apply(this, arguments);\n",
       "            console.log(\"remove\")\n",
       "            if(!this.is_removed) {\n",
       "                console.log(\"removed\")\n",
       "                this.model.set(\"view_count\", this.model.get(\"view_count\")-1)\n",
       "                this.model.save_changes()\n",
       "                this.is_removed = true;\n",
       "            }\n",
       "            return result;\n",
       "        },\n",
       "        set_positional_scales: function() {\n",
       "            var x_scale = this.scales.x,\n",
       "                y_scale = this.scales.y;\n",
       "            this.listenTo(x_scale, \"domain_changed\", function() {\n",
       "                if (!this.model.dirty) {\n",
       "                    var animate = true;\n",
       "                    //this.update_xy_position(animate); }\n",
       "                    this.set_ranges()\n",
       "                 }\n",
       "            });\n",
       "            this.listenTo(y_scale, \"domain_changed\", function() {\n",
       "                if (!this.model.dirty) {\n",
       "                    var animate = true;\n",
       "                    //this.update_xy_position(animate);\n",
       "                    this.set_ranges()\n",
       "                }\n",
       "            });\n",
       "        },\n",
       "        set_ranges: function() {\n",
       "                console.log(\"set ranges\")\n",
       "\t            var x_scale = this.scales.x,\n",
       "\t                y_scale = this.scales.y\n",
       "\t                ;\n",
       "\t            if(x_scale) {\n",
       "\t                x_scale.set_range(this.parent.padded_range(\"x\", x_scale.model));\n",
       "\t            }\n",
       "\t            if(y_scale) {\n",
       "\t                y_scale.set_range(this.parent.padded_range(\"y\", y_scale.model));\n",
       "\t            }\n",
       "\t            var x_scale = this.scales.x, y_scale = this.scales.y;\n",
       "\t            var that = this;\n",
       "\t            var animation_duration = this.parent.model.get(\"animation_duration\");// : 0;\n",
       "                var el = this.d3el || this.el;\n",
       "\t            el.selectAll(\".dot_img\").transition()\n",
       "\t                .duration(animation_duration)\n",
       "\t                .attr(\"transform\", function(d) {\n",
       "                        var sx = x_scale.scale(1) - x_scale.scale(0);\n",
       "                        var sy = y_scale.scale(1) - y_scale.scale(0);\n",
       "                        var tx = x_scale.scale(that.model.get('x')) + x_scale.offset\n",
       "                        var ty = y_scale.scale(that.model.get('y')) + y_scale.offset\n",
       "                        sx *= that.model.get('width')\n",
       "                        sy *= that.model.get('height')\n",
       "                        //console.log(that.model)\n",
       "                        //console.log(that.model.get('width'))\n",
       "                        //console.log(sx)\n",
       "                        //console.log(sy)\n",
       "\t                    return \"translate(\" + tx +\n",
       "\t                                    \",\" + ty + \") scale(\" + sx + \", \" + sy + \")\"});\n",
       "\t            //this.x_pixels = this.model.mark_data.map(function(el) { return x_scale.scale(el.x) + x_scale.offset; });\n",
       "\t            //this.y_pixels = this.model.mark_data.map(function(el) { return y_scale.scale(el.y) + y_scale.offset; });\n",
       "        },\n",
       "\n",
       "        create_listeners: function() {\n",
       "            Image.__super__.create_listeners.apply(this);\n",
       "\n",
       "            this.listenTo(this.model, \"change:src\", this.update_src, this);\n",
       "            this.listenTo(this.model, \"change:x\", this.update_x, this);\n",
       "            this.listenTo(this.model, \"change:y\", this.update_y, this);\n",
       "            this.listenTo(this.model, \"change:width\", this.update_width, this);\n",
       "            this.listenTo(this.model, \"change:height\", this.update_height, this);\n",
       "            this.listenTo(this.model, \"change:preserve_aspect_ratio\", this.update_preserve_aspect_ratio, this);\n",
       "            this.listenTo(this.parent, \"bg_clicked\", function() {\n",
       "                        this.event_dispatcher(\"parent_clicked\");\n",
       "                    });\n",
       "        },\n",
       "\n",
       "        update_xy_position: function(animate) {\n",
       "            //console.log(\"update_xy_position\");\n",
       "        },\n",
       "\n",
       "        update_src: function(model, new_x) {\n",
       "          //this.im.attr('x', new_x);\n",
       "          //console.log(\"update src\")\n",
       "            this.im.attr(\"xlink:href\", this.model.get('src'))\n",
       "            //this.set_ranges();\n",
       "        },\n",
       "        update_x: function(model, new_x) {\n",
       "          //this.im.attr('x', new_x);\n",
       "            this.set_ranges();\n",
       "        },\n",
       "\n",
       "        update_y: function(model, new_y) {\n",
       "          //this.im.attr('y', new_y);\n",
       "            this.set_ranges();\n",
       "        },\n",
       "\n",
       "        update_width: function(model, new_width) {\n",
       "          //this.im.attr('width', new_width);\n",
       "            this.set_ranges();\n",
       "        },\n",
       "\n",
       "        update_height: function(model, new_height) {\n",
       "          //this.im.attr('height', new_height);\n",
       "            this.set_ranges();\n",
       "        },\n",
       "\n",
       "        update_preserve_aspect_ratio: function(model, new_preserve_aspect_ratio) {\n",
       "          this.im.attr('preserveAspectRatio', new_preserve_aspect_ratio);\n",
       "        },\n",
       "\n",
       "        draw: function() {\n",
       "            console.log(\"in draw\")\n",
       "            this.set_ranges();\n",
       "            this.im.on(\"click\", _.bind(function(d, i) {\n",
       "            this.event_dispatcher(\"element_clicked\",\n",
       "\t\t\t      {\"data\": d, \"index\": 0});\n",
       "            }, this));\n",
       "\n",
       "        },\n",
       "\n",
       "    });\n",
       "\n",
       "\n",
       "   var ImageModel = bqplot.MarkModel.extend({\n",
       "        defaults: function() {\n",
       "            var more_defaults =  {\n",
       "                    _model_name: \"ImageModel\",\n",
       "                    _view_name: \"Image\",\n",
       "                    _view_module: \"vaex.ext.bqplot\",\n",
       "                    _model_module: \"vaex.ext.bqplot\",\n",
       "                    x: 0,\n",
       "                    y: 0,\n",
       "                    width: 1,\n",
       "                    height: 1,\n",
       "                    view_count: 0,\n",
       "                }\n",
       "            return _.extend(bqplot.MarkModel.prototype.defaults(), more_defaults);\n",
       "        },\n",
       "        initialize: function() {\n",
       "            ImageModel.__super__.initialize.apply(this, arguments);\n",
       "        },\n",
       "\n",
       "    });\n",
       "\n",
       "\n",
       "\n",
       "    console.log(\"blaat\")\n",
       "\t    return {\n",
       "\t        ImageModel: ImageModel,\n",
       "\t        Image:Image,\n",
       "\t    };\n",
       "})\n",
       "//require([\"vaex.ext.bqplot\"])"
      ]
     },
     "metadata": {},
     "output_type": "display_data"
    },
    {
     "data": {
      "application/vnd.jupyter.widget-view+json": {
       "model_id": "5652fa64d4c64cb7a5db6d5ad4a4459c",
       "version_major": 2,
       "version_minor": 0
      },
      "text/plain": [
       "A Jupyter Widget"
      ]
     },
     "metadata": {},
     "output_type": "display_data"
    }
   ],
   "source": [
    "# Read all tables and plot them separately (1st) and together (when the method is ok)\n",
    "fn = \"Y3A2_COADD_OBJECT_SUMMARY_COORDS_000015.fits\"\n",
    "ds = vx.open(fn)\n",
    "ds.plot_widget(\"L\", \"B\")#, vmin=1, background_color=\"white\", colormap=\"bone\")\n"
   ]
  },
  {
   "cell_type": "code",
   "execution_count": 4,
   "metadata": {
    "collapsed": true
   },
   "outputs": [],
   "source": [
    "# Read with astropy tables\n",
    "from astropy.io import fits\n",
    "from astropy.table import Table, Column\n",
    "hdu = fits.open(\"Y3A2_COADD_OBJECT_SUMMARY_COORDS_000015.fits\")\n",
    "tab = hdu[1].data\n",
    "tab.names\n",
    "tnew = Table()"
   ]
  },
  {
   "cell_type": "code",
   "execution_count": null,
   "metadata": {
    "collapsed": true
   },
   "outputs": [],
   "source": [
    "# Transform\n",
    "from astropy import units as u\n",
    "from astropy.coordinates import SkyCoord\n",
    "c_icrs = SkyCoord(ra=tab[\"ALPHAWIN_J2000\"]*u.degree, dec=tab[\"DELTAWIN_J2000\"]*u.degree, frame='icrs').galactic\n",
    "print(\"Transformation complete\")"
   ]
  },
  {
   "cell_type": "code",
   "execution_count": null,
   "metadata": {
    "collapsed": true
   },
   "outputs": [],
   "source": [
    "arr_l, arr_b = np.array(c_icrs.l), np.array(c_icrs.b)\n",
    "tnew[\"L\"] = tab[\"L\"]\n",
    "tnew[\"B\"] = tab[\"B\"]\n",
    "hdu.close()\n",
    "tnew[\"L2\"] = Column(arr_l, unit=\"degrees\")\n",
    "tnew[\"B2\"] = Column(arr_b, unit=\"degrees\")"
   ]
  },
  {
   "cell_type": "code",
   "execution_count": null,
   "metadata": {
    "collapsed": true
   },
   "outputs": [],
   "source": [
    "len(tnew[\"B\"])"
   ]
  },
  {
   "cell_type": "code",
   "execution_count": null,
   "metadata": {
    "collapsed": true
   },
   "outputs": [],
   "source": [
    "# Import to vaex\n",
    "ds = vx.from_astropy_table(tnew)"
   ]
  },
  {
   "cell_type": "code",
   "execution_count": null,
   "metadata": {
    "collapsed": true
   },
   "outputs": [],
   "source": [
    "if False:\n",
    "    ds.plot([[\"L2\", \"L\"], [\"B2\", \"B\"]], \n",
    "            vmin=1,\n",
    "            aspect=\"equal\",\n",
    "            colormap=\"Spectral_r\", #bone_r\",\n",
    "            background_color='white', #visual=dict(row=\"what\", column=\"subspace\"),\n",
    "            figsize=(12,5),\n",
    "            xlabel=[r\"l from ($\\alpha_{J2000}$, $\\delta_{J2000}$)\", r\"b from ($\\alpha_{J2000}$, $\\delta_{J2000}$)\"],\n",
    "            ylabel=[\"l\", \"b\"],\n",
    "            title=r\"($\\alpha_{J2000}$, $\\delta_{J2000}$) to ($l$, $b$). Subsample of ~2e7 objects\")\n",
    "    plt.savefig(\"lb_comparison.png\", format=\"png\", dpi=500)\n",
    "\n",
    "    ds.plot1d(\"B-B2\", figsize=(8,5), \n",
    "              xlabel=r\"$b$ - $b_{(\\alpha, \\delta)}$\", \n",
    "              ylabel=\"N\",\n",
    "              label=\"~2e7 objects\",\n",
    "              color=\"red\", lw=3)\n",
    "    plt.savefig(\"b_hist.png\", format=\"png\", dpi=500)\n",
    "\n",
    "    ds.plot1d(\"L-L2\", limits=[-0.0001,0.0001],\n",
    "              figsize=(8,5), \n",
    "              xlabel=r\"$l$ - $l_{(\\alpha, \\delta)}$\", \n",
    "              ylabel=\"N\",\n",
    "              color=\"royalblue\", lw=3)\n",
    "    plt.savefig(\"l_hist.png\", format=\"png\", dpi=500)"
   ]
  },
  {
   "cell_type": "code",
   "execution_count": null,
   "metadata": {
    "collapsed": true
   },
   "outputs": [],
   "source": []
  },
  {
   "cell_type": "code",
   "execution_count": null,
   "metadata": {
    "collapsed": true
   },
   "outputs": [],
   "source": [
    "ds.plot_widget(\"L\", \"B\")\n",
    "plot(\"enjoy\")"
   ]
  },
  {
   "cell_type": "code",
   "execution_count": null,
   "metadata": {
    "collapsed": true
   },
   "outputs": [],
   "source": [
    "plt.show()\n"
   ]
  },
  {
   "cell_type": "code",
   "execution_count": null,
   "metadata": {
    "collapsed": true
   },
   "outputs": [],
   "source": []
  }
 ],
 "metadata": {
  "kernelspec": {
   "display_name": "Python 3",
   "language": "python",
   "name": "python3"
  },
  "language_info": {
   "codemirror_mode": {
    "name": "ipython",
    "version": 3
   },
   "file_extension": ".py",
   "mimetype": "text/x-python",
   "name": "python",
   "nbconvert_exporter": "python",
   "pygments_lexer": "ipython3",
   "version": "3.6.3"
  },
  "widgets": {
   "application/vnd.jupyter.widget-state+json": {
    "state": {
     "024e107e6c494c34a6e5a838efebf583": {
      "model_module": "@jupyter-widgets/controls",
      "model_module_version": "1.0.0",
      "model_name": "DescriptionStyleModel",
      "state": {
       "description_width": ""
      }
     },
     "046fb56b6bdf4ef4b8cb8a2aaa9f3cb6": {
      "model_module": "bqplot",
      "model_module_version": "^0.3.0",
      "model_name": "LinearScaleModel",
      "state": {
       "max": 298.94630071695053,
       "min": 242.07014129563868,
       "stabilized": false
      }
     },
     "0691c59c1bdf444880cf81b3a9517d46": {
      "model_module": "bqplot",
      "model_module_version": "^0.3.0",
      "model_name": "AxisModel",
      "state": {
       "scale": "IPY_MODEL_046fb56b6bdf4ef4b8cb8a2aaa9f3cb6",
       "side": "bottom",
       "tick_values": {
        "type": null,
        "values": null
       }
      }
     },
     "104ad23cbeab4bedab59097b2222a9d4": {
      "model_module": "@jupyter-widgets/base",
      "model_module_version": "1.0.0",
      "model_name": "LayoutModel",
      "state": {}
     },
     "1342790f62064a2a8542d4771e3dd220": {
      "model_module": "@jupyter-widgets/base",
      "model_module_version": "1.0.0",
      "model_name": "LayoutModel",
      "state": {
       "max_width": "500px",
       "min_width": "125px",
       "width": "100%"
      }
     },
     "1b53f8e4d7944c60baa086f2bfcbf8e1": {
      "model_module": "@jupyter-widgets/base",
      "model_module_version": "1.0.0",
      "model_name": "LayoutModel",
      "state": {}
     },
     "2d5be8ba1c894361a299345552adcc49": {
      "model_module": "@jupyter-widgets/controls",
      "model_module_version": "1.0.0",
      "model_name": "DropdownModel",
      "state": {
       "_options_labels": [
        "replace",
        "and",
        "or",
        "xor",
        "subtract"
       ],
       "description": "select",
       "index": 0,
       "layout": "IPY_MODEL_bd1096ea0f4446a29e4692c7f49c87b6",
       "style": "IPY_MODEL_024e107e6c494c34a6e5a838efebf583"
      }
     },
     "2df50b80fbae4abfa08f680b51266568": {
      "model_module": "bqplot",
      "model_module_version": "^0.3.0",
      "model_name": "LinearScaleModel",
      "state": {
       "max": 1,
       "min": 0,
       "stabilized": false
      }
     },
     "320b1c51380b48a6900ff08a3b97cc6f": {
      "model_module": "@jupyter-widgets/base",
      "model_module_version": "1.0.0",
      "model_name": "LayoutModel",
      "state": {}
     },
     "3274a5da736845079e327c5b2c2bcba0": {
      "model_module": "bqplot",
      "model_module_version": "^0.3.0",
      "model_name": "LinearScaleModel",
      "state": {
       "max": 1,
       "min": 0,
       "stabilized": false
      }
     },
     "352de901307d45a398a3817c2e0a964e": {
      "model_module": "@jupyter-widgets/base",
      "model_module_version": "1.0.0",
      "model_name": "LayoutModel",
      "state": {
       "max_width": "500px",
       "width": "95%"
      }
     },
     "42333ea61d5747dd812691ae871f55a2": {
      "model_module": "@jupyter-widgets/base",
      "model_module_version": "1.0.0",
      "model_name": "LayoutModel",
      "state": {}
     },
     "4b9f9595ea8c46acb35df97a3a702fb2": {
      "model_module": "bqplot",
      "model_module_version": "^0.3.0",
      "model_name": "BrushSelectorModel",
      "state": {
       "color": "green",
       "x_scale": "IPY_MODEL_046fb56b6bdf4ef4b8cb8a2aaa9f3cb6",
       "y_scale": "IPY_MODEL_b9c15e59408342e59d09dc6b98d7db4c"
      }
     },
     "4e3bda5fd21c4210827a1612a17ee524": {
      "model_module": "@jupyter-widgets/controls",
      "model_module_version": "1.0.0",
      "model_name": "VBoxModel",
      "state": {
       "children": [
        "IPY_MODEL_abfb18d43fc546c59dfd6015d00841d5"
       ],
       "layout": "IPY_MODEL_42333ea61d5747dd812691ae871f55a2"
      }
     },
     "552320539d7541aeb154c8bad793d9ce": {
      "model_module": "@jupyter-widgets/controls",
      "model_module_version": "1.0.0",
      "model_name": "ButtonModel",
      "state": {
       "icon": "trash-o",
       "layout": "IPY_MODEL_f855366e8f2b4603837e970e12213c8b",
       "style": "IPY_MODEL_d19abae17fd54efbaa4091b6849e338c"
      }
     },
     "55eb193eca3f40aca9f0b6c4c3ced767": {
      "model_module": "bqplot",
      "model_module_version": "^0.3.0",
      "model_name": "PanZoomModel",
      "state": {
       "scales": {
        "x": [
         "IPY_MODEL_046fb56b6bdf4ef4b8cb8a2aaa9f3cb6"
        ],
        "y": [
         "IPY_MODEL_b9c15e59408342e59d09dc6b98d7db4c"
        ]
       }
      }
     },
     "56046032f4c149549448adae4bf8935f": {
      "model_module": "@jupyter-widgets/output",
      "model_module_version": "1.0.0",
      "model_name": "OutputModel",
      "state": {
       "layout": "IPY_MODEL_7257ecc0a07e4b829caac29ace30477b"
      }
     },
     "5652fa64d4c64cb7a5db6d5ad4a4459c": {
      "model_module": "@jupyter-widgets/controls",
      "model_module_version": "1.0.0",
      "model_name": "VBoxModel",
      "state": {
       "children": [
        "IPY_MODEL_f52f8b6bd6674fe2991adaeaf0e0c8e2",
        "IPY_MODEL_67c8a4847aed4cf8a7a86bcccc63efd5",
        "IPY_MODEL_e96423c170804c48acd2811cba5b860d",
        "IPY_MODEL_56046032f4c149549448adae4bf8935f"
       ],
       "layout": "IPY_MODEL_d2678e8a6d4e4fc3baa4a00f41281566"
      }
     },
     "57ac5713e0974c0e88e773ca256cefb1": {
      "model_module": "@jupyter-widgets/controls",
      "model_module_version": "1.0.0",
      "model_name": "HBoxModel",
      "state": {
       "children": [
        "IPY_MODEL_68336832a4084735969fee0273dec8a3",
        "IPY_MODEL_552320539d7541aeb154c8bad793d9ce"
       ],
       "layout": "IPY_MODEL_e6c743cf0cf44e38b8555a2b85e60b05"
      }
     },
     "5d0a7a904f1f43c39d352e4478f359da": {
      "model_module": "bqplot",
      "model_module_version": "^0.3.0",
      "model_name": "FigureModel",
      "state": {
       "_dom_classes": [],
       "axes": [
        "IPY_MODEL_0691c59c1bdf444880cf81b3a9517d46",
        "IPY_MODEL_86a4977da6e3496c885be94683ded6ea"
       ],
       "fig_margin": {
        "bottom": 30,
        "left": 60,
        "right": 0,
        "top": 0
       },
       "interaction": "IPY_MODEL_55eb193eca3f40aca9f0b6c4c3ced767",
       "layout": "IPY_MODEL_1342790f62064a2a8542d4771e3dd220",
       "marks": [
        "IPY_MODEL_882cf141e05846cf8d3e7197331e6fba",
        "IPY_MODEL_66a3c4b4a8c74f9190d687a9983dfaf1",
        "IPY_MODEL_a4913673dc6c4f68b068f79b2f75f0d9"
       ],
       "max_aspect_ratio": 6,
       "padding_y": 0,
       "scale_x": "IPY_MODEL_61a742ae687f46a69533b0d792812446",
       "scale_y": "IPY_MODEL_cd6359504c7243f1bdd97f4484a99a87"
      }
     },
     "61a742ae687f46a69533b0d792812446": {
      "model_module": "bqplot",
      "model_module_version": "^0.3.0",
      "model_name": "LinearScaleModel",
      "state": {
       "allow_padding": false,
       "max": 1,
       "min": 0,
       "stabilized": false
      }
     },
     "66a3c4b4a8c74f9190d687a9983dfaf1": {
      "model_module": "vaex.ext.bqplot",
      "model_module_version": "^0.3.0",
      "model_name": "ImageModel",
      "state": {
       "display_legend": false,
       "height": -10.480046052934824,
       "preserve_aspect_ratio": "",
       "scales": {
        "opacity": "IPY_MODEL_e8b846bd5f384839a5688c8541df4ee8",
        "rotation": "IPY_MODEL_2df50b80fbae4abfa08f680b51266568",
        "size": "IPY_MODEL_3274a5da736845079e327c5b2c2bcba0",
        "x": "IPY_MODEL_046fb56b6bdf4ef4b8cb8a2aaa9f3cb6",
        "y": "IPY_MODEL_b9c15e59408342e59d09dc6b98d7db4c"
       },
       "scales_metadata": {
        "x": {
         "dimension": "x",
         "orientation": "horizontal"
        },
        "y": {
         "dimension": "y",
         "orientation": "vertical"
        }
       },
       "selected": [],
       "src": "data:image/png;base64,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",
       "view_count": 1,
       "width": 56.876159421311854,
       "x": 242.07014129563868,
       "y": -37.04970286770049
      }
     },
     "67c8a4847aed4cf8a7a86bcccc63efd5": {
      "model_module": "@jupyter-widgets/controls",
      "model_module_version": "1.0.0",
      "model_name": "VBoxModel",
      "state": {
       "children": [
        "IPY_MODEL_4e3bda5fd21c4210827a1612a17ee524",
        "IPY_MODEL_5d0a7a904f1f43c39d352e4478f359da"
       ],
       "layout": "IPY_MODEL_1b53f8e4d7944c60baa086f2bfcbf8e1"
      }
     },
     "68336832a4084735969fee0273dec8a3": {
      "model_module": "@jupyter-widgets/controls",
      "model_module_version": "1.0.0",
      "model_name": "ToggleButtonsModel",
      "state": {
       "_options_labels": [
        "pan/zoom",
        "select"
       ],
       "button_style": "",
       "icons": [
        "arrows",
        "pencil-square-o"
       ],
       "index": 0,
       "layout": "IPY_MODEL_104ad23cbeab4bedab59097b2222a9d4",
       "style": "IPY_MODEL_f31ba2c28a3d4aee84611da6ae554b12",
       "tooltips": []
      }
     },
     "6f19e25e9d13429abf0a9e8c8e62a447": {
      "model_module": "@jupyter-widgets/controls",
      "model_module_version": "1.0.0",
      "model_name": "ButtonStyleModel",
      "state": {}
     },
     "7257ecc0a07e4b829caac29ace30477b": {
      "model_module": "@jupyter-widgets/base",
      "model_module_version": "1.0.0",
      "model_name": "LayoutModel",
      "state": {}
     },
     "86a4977da6e3496c885be94683ded6ea": {
      "model_module": "bqplot",
      "model_module_version": "^0.3.0",
      "model_name": "AxisModel",
      "state": {
       "orientation": "vertical",
       "scale": "IPY_MODEL_b9c15e59408342e59d09dc6b98d7db4c",
       "side": "left",
       "tick_values": {
        "type": null,
        "values": null
       }
      }
     },
     "882cf141e05846cf8d3e7197331e6fba": {
      "model_module": "bqplot",
      "model_module_version": "^0.3.0",
      "model_name": "ScatterModel",
      "state": {
       "_model_module": "bqplot",
       "_model_module_version": "^0.3.0",
       "_view_count": null,
       "_view_module": "bqplot",
       "_view_module_version": "^0.3.0",
       "apply_clip": true,
       "color": {
        "type": null,
        "values": null
       },
       "colors": [
        "DeepSkyBlue"
       ],
       "display_legend": false,
       "enable_hover": true,
       "hovered_style": {},
       "interactions": {
        "hover": "tooltip"
       },
       "labels": [],
       "names": {
        "type": null,
        "values": null
       },
       "opacity": {
        "type": null,
        "values": null
       },
       "preserve_domain": {},
       "rotation": {
        "type": "float",
        "values": [
         0,
         1,
         2,
         3,
         4,
         5,
         6,
         7,
         8,
         9
        ]
       },
       "scales": {
        "opacity": "IPY_MODEL_e8b846bd5f384839a5688c8541df4ee8",
        "rotation": "IPY_MODEL_2df50b80fbae4abfa08f680b51266568",
        "size": "IPY_MODEL_3274a5da736845079e327c5b2c2bcba0",
        "x": "IPY_MODEL_046fb56b6bdf4ef4b8cb8a2aaa9f3cb6",
        "y": "IPY_MODEL_b9c15e59408342e59d09dc6b98d7db4c"
       },
       "scales_metadata": {
        "color": {
         "dimension": "color"
        },
        "opacity": {
         "dimension": "opacity"
        },
        "rotation": {
         "dimension": "rotation"
        },
        "size": {
         "dimension": "size"
        },
        "skew": {
         "dimension": "skew"
        },
        "x": {
         "dimension": "x",
         "orientation": "horizontal"
        },
        "y": {
         "dimension": "y",
         "orientation": "vertical"
        }
       },
       "selected": [],
       "selected_style": {},
       "size": {
        "type": null,
        "values": null
       },
       "skew": {
        "type": null,
        "values": null
       },
       "tooltip": null,
       "tooltip_location": "mouse",
       "tooltip_style": {
        "opacity": 0.9
       },
       "unhovered_style": {},
       "unselected_style": {},
       "visible": false,
       "x": {
        "type": "float",
        "values": [
         0,
         1,
         2,
         3,
         4,
         5,
         6,
         7,
         8,
         9
        ]
       },
       "y": {
        "type": "float",
        "values": [
         0,
         1,
         4,
         9,
         16,
         25,
         36,
         49,
         64,
         81
        ]
       }
      }
     },
     "892c0dcedeac45f7b9a3cb266cbb0b95": {
      "model_module": "@jupyter-widgets/controls",
      "model_module_version": "1.0.0",
      "model_name": "HBoxModel",
      "state": {
       "layout": "IPY_MODEL_b40e5aaf1c67438abde882b370e21a5b"
      }
     },
     "a4913673dc6c4f68b068f79b2f75f0d9": {
      "model_module": "bqplot",
      "model_module_version": "^0.3.0",
      "model_name": "ScatterModel",
      "state": {
       "_model_module": "bqplot",
       "_model_module_version": "^0.3.0",
       "_view_count": null,
       "_view_module": "bqplot",
       "_view_module_version": "^0.3.0",
       "apply_clip": true,
       "color": {
        "type": null,
        "values": null
       },
       "colors": [
        "DeepSkyBlue"
       ],
       "display_legend": false,
       "enable_hover": true,
       "hovered_style": {},
       "interactions": {
        "hover": "tooltip"
       },
       "labels": [],
       "marker": "arrow",
       "names": {
        "type": null,
        "values": null
       },
       "opacity": {
        "type": null,
        "values": null
       },
       "preserve_domain": {},
       "rotation": {
        "type": "float",
        "values": [
         0,
         1,
         2,
         3,
         4,
         5,
         6,
         7,
         8,
         9
        ]
       },
       "scales": {
        "opacity": "IPY_MODEL_e8b846bd5f384839a5688c8541df4ee8",
        "rotation": "IPY_MODEL_2df50b80fbae4abfa08f680b51266568",
        "size": "IPY_MODEL_3274a5da736845079e327c5b2c2bcba0",
        "x": "IPY_MODEL_046fb56b6bdf4ef4b8cb8a2aaa9f3cb6",
        "y": "IPY_MODEL_b9c15e59408342e59d09dc6b98d7db4c"
       },
       "scales_metadata": {
        "color": {
         "dimension": "color"
        },
        "opacity": {
         "dimension": "opacity"
        },
        "rotation": {
         "dimension": "rotation"
        },
        "size": {
         "dimension": "size"
        },
        "skew": {
         "dimension": "skew"
        },
        "x": {
         "dimension": "x",
         "orientation": "horizontal"
        },
        "y": {
         "dimension": "y",
         "orientation": "vertical"
        }
       },
       "selected": [],
       "selected_style": {},
       "size": {
        "type": "float",
        "values": [
         0,
         1,
         2,
         3,
         4,
         5,
         6,
         7,
         8,
         9
        ]
       },
       "skew": {
        "type": null,
        "values": null
       },
       "tooltip": null,
       "tooltip_location": "mouse",
       "tooltip_style": {
        "opacity": 0.9
       },
       "unhovered_style": {},
       "unselected_style": {},
       "visible": false,
       "x": {
        "type": "float",
        "values": [
         0,
         1,
         2,
         3,
         4,
         5,
         6,
         7,
         8,
         9
        ]
       },
       "y": {
        "type": "float",
        "values": [
         0,
         1,
         4,
         9,
         16,
         25,
         36,
         49,
         64,
         81
        ]
       }
      }
     },
     "abfb18d43fc546c59dfd6015d00841d5": {
      "model_module": "@jupyter-widgets/controls",
      "model_module_version": "1.0.0",
      "model_name": "VBoxModel",
      "state": {
       "children": [
        "IPY_MODEL_57ac5713e0974c0e88e773ca256cefb1",
        "IPY_MODEL_892c0dcedeac45f7b9a3cb266cbb0b95"
       ],
       "layout": "IPY_MODEL_c439e8e43ddb45e5b2bb01e054b4d035"
      }
     },
     "ad96c0ea187f48618c8208cbc4e2bc07": {
      "model_module": "@jupyter-widgets/base",
      "model_module_version": "1.0.0",
      "model_name": "WidgetModel",
      "state": {
       "_view_module": null,
       "_view_module_version": "",
       "smooth_post": null,
       "smooth_pre": null,
       "vcount_limits": null,
       "vx": "",
       "vy": "",
       "vz": "",
       "w": null,
       "what": "count(*)",
       "x": "L",
       "y": "B",
       "z": null
      }
     },
     "b2bfa2b4dc494e3e9d855ceef9719929": {
      "model_module": "@jupyter-widgets/controls",
      "model_module_version": "1.0.0",
      "model_name": "ButtonModel",
      "state": {
       "icon": "refresh",
       "layout": "IPY_MODEL_f01b4988dad44c9e9c459cbd9fdd9bbf",
       "style": "IPY_MODEL_6f19e25e9d13429abf0a9e8c8e62a447"
      }
     },
     "b40e5aaf1c67438abde882b370e21a5b": {
      "model_module": "@jupyter-widgets/base",
      "model_module_version": "1.0.0",
      "model_name": "LayoutModel",
      "state": {}
     },
     "b9c15e59408342e59d09dc6b98d7db4c": {
      "model_module": "bqplot",
      "model_module_version": "^0.3.0",
      "model_name": "LinearScaleModel",
      "state": {
       "max": -37.04970286770049,
       "min": -47.52974892063531,
       "stabilized": false
      }
     },
     "bd1096ea0f4446a29e4692c7f49c87b6": {
      "model_module": "@jupyter-widgets/base",
      "model_module_version": "1.0.0",
      "model_name": "LayoutModel",
      "state": {}
     },
     "c439e8e43ddb45e5b2bb01e054b4d035": {
      "model_module": "@jupyter-widgets/base",
      "model_module_version": "1.0.0",
      "model_name": "LayoutModel",
      "state": {}
     },
     "cd6359504c7243f1bdd97f4484a99a87": {
      "model_module": "bqplot",
      "model_module_version": "^0.3.0",
      "model_name": "LinearScaleModel",
      "state": {
       "allow_padding": false,
       "max": 1,
       "min": 0,
       "stabilized": false
      }
     },
     "d19abae17fd54efbaa4091b6849e338c": {
      "model_module": "@jupyter-widgets/controls",
      "model_module_version": "1.0.0",
      "model_name": "ButtonStyleModel",
      "state": {}
     },
     "d2678e8a6d4e4fc3baa4a00f41281566": {
      "model_module": "@jupyter-widgets/base",
      "model_module_version": "1.0.0",
      "model_name": "LayoutModel",
      "state": {}
     },
     "e6c743cf0cf44e38b8555a2b85e60b05": {
      "model_module": "@jupyter-widgets/base",
      "model_module_version": "1.0.0",
      "model_name": "LayoutModel",
      "state": {}
     },
     "e763060c2c904bf9b7f0dd386391ea4b": {
      "model_module": "@jupyter-widgets/controls",
      "model_module_version": "1.0.0",
      "model_name": "ProgressStyleModel",
      "state": {
       "description_width": ""
      }
     },
     "e8b846bd5f384839a5688c8541df4ee8": {
      "model_module": "bqplot",
      "model_module_version": "^0.3.0",
      "model_name": "LinearScaleModel",
      "state": {
       "max": 1,
       "min": 0,
       "stabilized": false
      }
     },
     "e96423c170804c48acd2811cba5b860d": {
      "model_module": "@jupyter-widgets/controls",
      "model_module_version": "1.0.0",
      "model_name": "FloatProgressModel",
      "state": {
       "description": "progress",
       "layout": "IPY_MODEL_352de901307d45a398a3817c2e0a964e",
       "max": 1,
       "style": "IPY_MODEL_e763060c2c904bf9b7f0dd386391ea4b"
      }
     },
     "f01b4988dad44c9e9c459cbd9fdd9bbf": {
      "model_module": "@jupyter-widgets/base",
      "model_module_version": "1.0.0",
      "model_name": "LayoutModel",
      "state": {}
     },
     "f31ba2c28a3d4aee84611da6ae554b12": {
      "model_module": "@jupyter-widgets/controls",
      "model_module_version": "1.0.0",
      "model_name": "ToggleButtonsStyleModel",
      "state": {
       "_model_module": "@jupyter-widgets/controls",
       "button_width": ""
      }
     },
     "f52f8b6bd6674fe2991adaeaf0e0c8e2": {
      "model_module": "@jupyter-widgets/controls",
      "model_module_version": "1.0.0",
      "model_name": "VBoxModel",
      "state": {
       "layout": "IPY_MODEL_320b1c51380b48a6900ff08a3b97cc6f"
      }
     },
     "f855366e8f2b4603837e970e12213c8b": {
      "model_module": "@jupyter-widgets/base",
      "model_module_version": "1.0.0",
      "model_name": "LayoutModel",
      "state": {}
     }
    },
    "version_major": 2,
    "version_minor": 0
   }
  }
 },
 "nbformat": 4,
 "nbformat_minor": 2
}
