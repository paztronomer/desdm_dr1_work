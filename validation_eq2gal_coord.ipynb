{
 "cells": [
  {
   "cell_type": "code",
   "execution_count": 125,
   "metadata": {
    "collapsed": true
   },
   "outputs": [],
   "source": [
    "import os\n",
    "import time\n",
    "import shlex\n",
    "import subprocess\n",
    "import pickle\n",
    "import gc\n",
    "import numpy as np\n",
    "import pandas as pd\n",
    "import matplotlib.pyplot as plt\n",
    "from matplotlib.ticker import AutoMinorLocator\n",
    "import vaex as vx\n",
    "import fitsio\n",
    "from astropy import units as u\n",
    "from astropy.coordinates import SkyCoord\n",
    "%matplotlib inline"
   ]
  },
  {
   "cell_type": "code",
   "execution_count": 82,
   "metadata": {
    "collapsed": true
   },
   "outputs": [],
   "source": [
    "# It doesn't properly work, because gets zero-filled tables\n",
    "def fits2h5():\n",
    "    for root, dirnm, filenm in os.walk(os.getcwd()):\n",
    "        for filename in filenm:\n",
    "            if (\"Y3A2_COADD_OBJECT_SUMMARY_COORDS_\" in filename):\n",
    "                fits_f = os.path.join(root, filename)\n",
    "                h5_f = fits_f.replace(\".fits\", \".hdf5\")\n",
    "                print(h5_f)\n",
    "                cmd = \"vaex convert file {0} {1}\".format(fits_f, h5_f)\n",
    "                cmd = shlex.split(cmd)\n",
    "                sp = subprocess.Popen(cmd, stdout=subprocess.PIPE)\n",
    "                outp = sp.communicate()\n",
    "                sp.wait()\n",
    "                print(outp)\n"
   ]
  },
  {
   "cell_type": "markdown",
   "metadata": {},
   "source": [
    "# Reading the FITS (downloaded using easyaccess or deslabs)"
   ]
  },
  {
   "cell_type": "code",
   "execution_count": 83,
   "metadata": {
    "collapsed": true
   },
   "outputs": [],
   "source": [
    "def get_all(pattern, columns=None):\n",
    "    if (not isinstance(columns, list)):\n",
    "        print(\"If no list of keys is input, then all are retrieved\")\n",
    "    tabls = []\n",
    "    counter = True\n",
    "    t0 = time.time()\n",
    "    for root, dirnm, filenm in os.walk(os.getcwd()):\n",
    "        for idx, f in enumerate(filenm):\n",
    "            if (pattern in f):\n",
    "                tabls.append(f)\n",
    "                hdu = fitsio.FITS(f)\n",
    "                if counter:\n",
    "                    if (columns is None):\n",
    "                        r_arr = hdu[1].read()\n",
    "                    else:\n",
    "                        r_arr = hdu[1].read()[columns]\n",
    "                    counter = False\n",
    "                else:\n",
    "                    if (columns is None):\n",
    "                        r_arr = np.concatenate((r_arr, hdu[1].read()))\n",
    "                    else:\n",
    "                        r_arr = np.concatenate((r_arr, hdu[1].read()[columns]))\n",
    "                hdu.close()\n",
    "                print(\"{0} loaded\".format(f))\n",
    "    print(\"Elapsed time in reading the FITS: {0:.2f} min\".format((time.time() - t0) / 60.))\n",
    "    return r_arr"
   ]
  },
  {
   "cell_type": "markdown",
   "metadata": {},
   "source": [
    "# Plot the entire(!) dataset without using healpix or pre-binning"
   ]
  },
  {
   "cell_type": "code",
   "execution_count": 4,
   "metadata": {},
   "outputs": [
    {
     "name": "stdout",
     "output_type": "stream",
     "text": [
      "Y3A2_COADD_OBJECT_SUMMARY_COORDS_000001.fits loaded\n",
      "Y3A2_COADD_OBJECT_SUMMARY_COORDS_000002.fits loaded\n",
      "Y3A2_COADD_OBJECT_SUMMARY_COORDS_000003.fits loaded\n",
      "Y3A2_COADD_OBJECT_SUMMARY_COORDS_000004.fits loaded\n",
      "Y3A2_COADD_OBJECT_SUMMARY_COORDS_000005.fits loaded\n",
      "Y3A2_COADD_OBJECT_SUMMARY_COORDS_000006.fits loaded\n",
      "Y3A2_COADD_OBJECT_SUMMARY_COORDS_000007.fits loaded\n",
      "Y3A2_COADD_OBJECT_SUMMARY_COORDS_000008.fits loaded\n",
      "Y3A2_COADD_OBJECT_SUMMARY_COORDS_000009.fits loaded\n",
      "Y3A2_COADD_OBJECT_SUMMARY_COORDS_000010.fits loaded\n",
      "Y3A2_COADD_OBJECT_SUMMARY_COORDS_000011.fits loaded\n",
      "Y3A2_COADD_OBJECT_SUMMARY_COORDS_000012.fits loaded\n",
      "Y3A2_COADD_OBJECT_SUMMARY_COORDS_000013.fits loaded\n",
      "Y3A2_COADD_OBJECT_SUMMARY_COORDS_000014.fits loaded\n",
      "Y3A2_COADD_OBJECT_SUMMARY_COORDS_000015.fits loaded\n",
      "Elapsed time in reading the FITS: 3.66 min\n"
     ]
    }
   ],
   "source": [
    "# Read into vaex. Ok, it's not optimal... better ways are read directly from FITS and h5, and from pandas\n",
    "aux_all = get_all(\"Y3A2_COADD_OBJECT_SUMMARY_COORDS_\", columns=[\"L\", \"B\"])"
   ]
  },
  {
   "cell_type": "code",
   "execution_count": 5,
   "metadata": {},
   "outputs": [
    {
     "data": {
      "application/javascript": [
       "define(\"vaex.ext.bqplot\", [\"jupyter-js-widgets\", \"bqplot\", \"underscore\"],\n",
       "       function(widgets, bqplot, _) {\n",
       "    \"use strict\";\n",
       "/*\n",
       "widgets.BoxView.prototype.remove_original = widgets.BoxView.prototype.remove\n",
       "widgets.BoxView.prototype.remove = function() {\n",
       "    console.log(\"remove monkey patch\")\n",
       "    if(this.children_views)\n",
       "        this.children_views.remove()\n",
       "    if(!this._is_removed) // protect against inf loop, if we monkey patch twice (during dev that can happen)\n",
       "        this.remove_original()\n",
       "    else\n",
       "        this._is_removed = true\n",
       "}*/\n",
       "\n",
       "    var Image = bqplot.Mark.extend({\n",
       "\n",
       "        render: function() {\n",
       "            var base_render_promise = Image.__super__.render.apply(this);\n",
       "            var el = this.d3el || this.el;\n",
       "            window.last_el = el;\n",
       "            window.last_image = this;\n",
       "            this.im = el.append(\"image\")\n",
       "                .attr(\"class\", \"dot_img\")\n",
       "                .attr(\"xlink:href\", this.model.get('src'))\n",
       "                .attr(\"x\", 0) //this.model.get('x'))\n",
       "                .attr(\"y\", 0) //this.model.get('y'))\n",
       "                .attr(\"width\", 1)//this.model.get('width'))\n",
       "                .attr(\"height\", 1)// this.model.get('height'))\n",
       "                .attr(\"preserveAspectRatio\", this.model.get('preserve_aspect_ratio'));\n",
       "\n",
       "            this.width = this.parent.plotarea_width;\n",
       "            this.height = this.parent.plotarea_height;\n",
       "            this.map_id = widgets.uuid();\n",
       "            this.display_el_classes = [\"event_layer\"];\n",
       "            var that = this;\n",
       "            this.event_metadata = {\n",
       "            \"mouse_over\": {\n",
       "                \"msg_name\": \"hover\",\n",
       "                \"lookup_data\": false,\n",
       "                \"hit_test\": true\n",
       "            },\n",
       "            \"legend_clicked\":  {\n",
       "                \"msg_name\": \"legend_click\",\n",
       "                \"hit_test\": true\n",
       "            },\n",
       "            \"element_clicked\": {\n",
       "                \"msg_name\": \"element_click\",\n",
       "                \"lookup_data\": false,\n",
       "                \"hit_test\": true\n",
       "            },\n",
       "            \"parent_clicked\": {\n",
       "                \"msg_name\": \"background_click\",\n",
       "                \"hit_test\": false\n",
       "            }}\n",
       "            console.log('listen to...')\n",
       "            this.is_removed = false;\n",
       "            this.model.set(\"view_count\", this.model.get(\"view_count\")+1)\n",
       "            this.model.save_changes()\n",
       "            return base_render_promise.then(function() {\n",
       "                console.log(\"promise...\")\n",
       "                that.event_listeners = {};\n",
       "                that.create_listeners();\n",
       "                console.log(\"drawing...\")\n",
       "                that.draw();\n",
       "            });\n",
       "        },\n",
       "        remove: function() {\n",
       "            var result = Image.__super__.remove.apply(this, arguments);\n",
       "            console.log(\"remove\")\n",
       "            if(!this.is_removed) {\n",
       "                console.log(\"removed\")\n",
       "                this.model.set(\"view_count\", this.model.get(\"view_count\")-1)\n",
       "                this.model.save_changes()\n",
       "                this.is_removed = true;\n",
       "            }\n",
       "            return result;\n",
       "        },\n",
       "        set_positional_scales: function() {\n",
       "            var x_scale = this.scales.x,\n",
       "                y_scale = this.scales.y;\n",
       "            this.listenTo(x_scale, \"domain_changed\", function() {\n",
       "                if (!this.model.dirty) {\n",
       "                    var animate = true;\n",
       "                    //this.update_xy_position(animate); }\n",
       "                    this.set_ranges()\n",
       "                 }\n",
       "            });\n",
       "            this.listenTo(y_scale, \"domain_changed\", function() {\n",
       "                if (!this.model.dirty) {\n",
       "                    var animate = true;\n",
       "                    //this.update_xy_position(animate);\n",
       "                    this.set_ranges()\n",
       "                }\n",
       "            });\n",
       "        },\n",
       "        set_ranges: function() {\n",
       "                console.log(\"set ranges\")\n",
       "\t            var x_scale = this.scales.x,\n",
       "\t                y_scale = this.scales.y\n",
       "\t                ;\n",
       "\t            if(x_scale) {\n",
       "\t                x_scale.set_range(this.parent.padded_range(\"x\", x_scale.model));\n",
       "\t            }\n",
       "\t            if(y_scale) {\n",
       "\t                y_scale.set_range(this.parent.padded_range(\"y\", y_scale.model));\n",
       "\t            }\n",
       "\t            var x_scale = this.scales.x, y_scale = this.scales.y;\n",
       "\t            var that = this;\n",
       "\t            var animation_duration = this.parent.model.get(\"animation_duration\");// : 0;\n",
       "                var el = this.d3el || this.el;\n",
       "\t            el.selectAll(\".dot_img\").transition()\n",
       "\t                .duration(animation_duration)\n",
       "\t                .attr(\"transform\", function(d) {\n",
       "                        var sx = x_scale.scale(1) - x_scale.scale(0);\n",
       "                        var sy = y_scale.scale(1) - y_scale.scale(0);\n",
       "                        var tx = x_scale.scale(that.model.get('x')) + x_scale.offset\n",
       "                        var ty = y_scale.scale(that.model.get('y')) + y_scale.offset\n",
       "                        sx *= that.model.get('width')\n",
       "                        sy *= that.model.get('height')\n",
       "                        //console.log(that.model)\n",
       "                        //console.log(that.model.get('width'))\n",
       "                        //console.log(sx)\n",
       "                        //console.log(sy)\n",
       "\t                    return \"translate(\" + tx +\n",
       "\t                                    \",\" + ty + \") scale(\" + sx + \", \" + sy + \")\"});\n",
       "\t            //this.x_pixels = this.model.mark_data.map(function(el) { return x_scale.scale(el.x) + x_scale.offset; });\n",
       "\t            //this.y_pixels = this.model.mark_data.map(function(el) { return y_scale.scale(el.y) + y_scale.offset; });\n",
       "        },\n",
       "\n",
       "        create_listeners: function() {\n",
       "            Image.__super__.create_listeners.apply(this);\n",
       "\n",
       "            this.listenTo(this.model, \"change:src\", this.update_src, this);\n",
       "            this.listenTo(this.model, \"change:x\", this.update_x, this);\n",
       "            this.listenTo(this.model, \"change:y\", this.update_y, this);\n",
       "            this.listenTo(this.model, \"change:width\", this.update_width, this);\n",
       "            this.listenTo(this.model, \"change:height\", this.update_height, this);\n",
       "            this.listenTo(this.model, \"change:preserve_aspect_ratio\", this.update_preserve_aspect_ratio, this);\n",
       "            this.listenTo(this.parent, \"bg_clicked\", function() {\n",
       "                        this.event_dispatcher(\"parent_clicked\");\n",
       "                    });\n",
       "        },\n",
       "\n",
       "        update_xy_position: function(animate) {\n",
       "            //console.log(\"update_xy_position\");\n",
       "        },\n",
       "\n",
       "        update_src: function(model, new_x) {\n",
       "          //this.im.attr('x', new_x);\n",
       "          //console.log(\"update src\")\n",
       "            this.im.attr(\"xlink:href\", this.model.get('src'))\n",
       "            //this.set_ranges();\n",
       "        },\n",
       "        update_x: function(model, new_x) {\n",
       "          //this.im.attr('x', new_x);\n",
       "            this.set_ranges();\n",
       "        },\n",
       "\n",
       "        update_y: function(model, new_y) {\n",
       "          //this.im.attr('y', new_y);\n",
       "            this.set_ranges();\n",
       "        },\n",
       "\n",
       "        update_width: function(model, new_width) {\n",
       "          //this.im.attr('width', new_width);\n",
       "            this.set_ranges();\n",
       "        },\n",
       "\n",
       "        update_height: function(model, new_height) {\n",
       "          //this.im.attr('height', new_height);\n",
       "            this.set_ranges();\n",
       "        },\n",
       "\n",
       "        update_preserve_aspect_ratio: function(model, new_preserve_aspect_ratio) {\n",
       "          this.im.attr('preserveAspectRatio', new_preserve_aspect_ratio);\n",
       "        },\n",
       "\n",
       "        draw: function() {\n",
       "            console.log(\"in draw\")\n",
       "            this.set_ranges();\n",
       "            this.im.on(\"click\", _.bind(function(d, i) {\n",
       "            this.event_dispatcher(\"element_clicked\",\n",
       "\t\t\t      {\"data\": d, \"index\": 0});\n",
       "            }, this));\n",
       "\n",
       "        },\n",
       "\n",
       "    });\n",
       "\n",
       "\n",
       "   var ImageModel = bqplot.MarkModel.extend({\n",
       "        defaults: function() {\n",
       "            var more_defaults =  {\n",
       "                    _model_name: \"ImageModel\",\n",
       "                    _view_name: \"Image\",\n",
       "                    _view_module: \"vaex.ext.bqplot\",\n",
       "                    _model_module: \"vaex.ext.bqplot\",\n",
       "                    x: 0,\n",
       "                    y: 0,\n",
       "                    width: 1,\n",
       "                    height: 1,\n",
       "                    view_count: 0,\n",
       "                }\n",
       "            return _.extend(bqplot.MarkModel.prototype.defaults(), more_defaults);\n",
       "        },\n",
       "        initialize: function() {\n",
       "            ImageModel.__super__.initialize.apply(this, arguments);\n",
       "        },\n",
       "\n",
       "    });\n",
       "\n",
       "\n",
       "\n",
       "    console.log(\"blaat\")\n",
       "\t    return {\n",
       "\t        ImageModel: ImageModel,\n",
       "\t        Image:Image,\n",
       "\t    };\n",
       "})\n",
       "//require([\"vaex.ext.bqplot\"])"
      ]
     },
     "metadata": {},
     "output_type": "display_data"
    },
    {
     "data": {
      "application/vnd.jupyter.widget-view+json": {
       "model_id": "596c0c7ba1bb4e739a079cf283e6f79a",
       "version_major": 2,
       "version_minor": 0
      },
      "text/plain": [
       "A Jupyter Widget"
      ]
     },
     "metadata": {},
     "output_type": "display_data"
    }
   ],
   "source": [
    "ds = vx.from_arrays(x=aux_all[\"L\"], y=aux_all[\"B\"])\n",
    "ds.plot_widget(\"x\", \"y\", \n",
    "               colormap=\"bone_r\", \n",
    "               xlabel=r\"$l_{gal}$\", ylabel=r\"$b_{gal}$\", \n",
    "               title=\"2D map of all objects on the footprint Y3A2\",\n",
    "               limits=((0, 360), (-90, -30)),\n",
    "              )"
   ]
  },
  {
   "cell_type": "code",
   "execution_count": null,
   "metadata": {
    "collapsed": true
   },
   "outputs": [],
   "source": []
  },
  {
   "cell_type": "code",
   "execution_count": 12,
   "metadata": {
    "collapsed": true
   },
   "outputs": [],
   "source": [
    "# Free memory\n",
    "gc.collect()\n",
    "del aux_all"
   ]
  },
  {
   "cell_type": "markdown",
   "metadata": {},
   "source": [
    "# Do the statistics for ra,dec -> l,b transformation"
   ]
  },
  {
   "cell_type": "markdown",
   "metadata": {},
   "source": [
    "## Option 1: do the transformation for a  sub-sample, based on the entire set"
   ]
  },
  {
   "cell_type": "markdown",
   "metadata": {},
   "source": [
    "### Load data from FITS tables"
   ]
  },
  {
   "cell_type": "code",
   "execution_count": 84,
   "metadata": {},
   "outputs": [
    {
     "name": "stdout",
     "output_type": "stream",
     "text": [
      "Y3A2_COADD_OBJECT_SUMMARY_COORDS_000001.fits loaded\n",
      "Y3A2_COADD_OBJECT_SUMMARY_COORDS_000002.fits loaded\n",
      "Y3A2_COADD_OBJECT_SUMMARY_COORDS_000003.fits loaded\n",
      "Y3A2_COADD_OBJECT_SUMMARY_COORDS_000004.fits loaded\n",
      "Y3A2_COADD_OBJECT_SUMMARY_COORDS_000005.fits loaded\n",
      "Y3A2_COADD_OBJECT_SUMMARY_COORDS_000006.fits loaded\n",
      "Y3A2_COADD_OBJECT_SUMMARY_COORDS_000007.fits loaded\n",
      "Y3A2_COADD_OBJECT_SUMMARY_COORDS_000008.fits loaded\n",
      "Y3A2_COADD_OBJECT_SUMMARY_COORDS_000009.fits loaded\n",
      "Y3A2_COADD_OBJECT_SUMMARY_COORDS_000010.fits loaded\n",
      "Y3A2_COADD_OBJECT_SUMMARY_COORDS_000011.fits loaded\n",
      "Y3A2_COADD_OBJECT_SUMMARY_COORDS_000012.fits loaded\n",
      "Y3A2_COADD_OBJECT_SUMMARY_COORDS_000013.fits loaded\n",
      "Y3A2_COADD_OBJECT_SUMMARY_COORDS_000014.fits loaded\n",
      "Y3A2_COADD_OBJECT_SUMMARY_COORDS_000015.fits loaded\n",
      "Elapsed time in reading the FITS: 10.23 min\n",
      "Data was successfully loaded\n"
     ]
    }
   ],
   "source": [
    "# Load the data\n",
    "arr_coo = get_all(\"Y3A2_COADD_OBJECT_SUMMARY_COORDS_\", \n",
    "                  columns=[\"ALPHAWIN_J2000\", \"DELTAWIN_J2000\", \"L\", \"B\"]\n",
    "                 )\n",
    "print(\"Data was successfully loaded\")"
   ]
  },
  {
   "cell_type": "code",
   "execution_count": 87,
   "metadata": {},
   "outputs": [
    {
     "data": {
      "text/plain": [
       "0"
      ]
     },
     "execution_count": 87,
     "metadata": {},
     "output_type": "execute_result"
    }
   ],
   "source": [
    "gc.collect()"
   ]
  },
  {
   "cell_type": "markdown",
   "metadata": {},
   "source": [
    "### Using a subset of the total, transform coordinates using astropy"
   ]
  },
  {
   "cell_type": "code",
   "execution_count": 88,
   "metadata": {
    "collapsed": true
   },
   "outputs": [],
   "source": [
    "# Transform for a subset. The astropy function is slow, so use a subsample\n",
    "aux_idx = np.arange(arr_coo.shape[0])[::5]"
   ]
  },
  {
   "cell_type": "code",
   "execution_count": 90,
   "metadata": {},
   "outputs": [
    {
     "name": "stdout",
     "output_type": "stream",
     "text": [
      "Ingestion complete\n",
      "Transformation complete. Elapsed: 3.44 min\n"
     ]
    }
   ],
   "source": [
    "t0 = time.time()\n",
    "eq = SkyCoord(ra=arr_coo[\"ALPHAWIN_J2000\"][aux_idx]*u.degree, \n",
    "              dec=arr_coo[\"DELTAWIN_J2000\"][aux_idx]*u.degree, \n",
    "              frame='icrs')\n",
    "print(\"Ingestion complete\")\n",
    "gal = eq.galactic\n",
    "t1 = time.time()\n",
    "print(\"Transformation complete. Elapsed: {0:.2f} min\".format((t1 - t0) / 60.))"
   ]
  },
  {
   "cell_type": "code",
   "execution_count": 91,
   "metadata": {
    "collapsed": true
   },
   "outputs": [],
   "source": [
    "# Overwrite \n",
    "arr_coo = arr_coo[aux_idx]"
   ]
  },
  {
   "cell_type": "markdown",
   "metadata": {},
   "source": [
    "#### Below pickle lines are intended to be executed only in case of need"
   ]
  },
  {
   "cell_type": "code",
   "execution_count": 95,
   "metadata": {
    "collapsed": true
   },
   "outputs": [],
   "source": [
    "# For the sake of time, pickle the array\n",
    "pickle.dump(gal, open(\"gal.pickle\", \"wb\"), protocol=pickle.HIGHEST_PROTOCOL)"
   ]
  },
  {
   "cell_type": "code",
   "execution_count": 4,
   "metadata": {},
   "outputs": [],
   "source": [
    "# Load the object\n",
    "gal = pickle.load(open(\"gal.pickle\", \"rb\"))"
   ]
  },
  {
   "cell_type": "markdown",
   "metadata": {},
   "source": [
    "### Check rounding effects of convert (alpha, delta) -> (l, b) -> (alpha, delta)"
   ]
  },
  {
   "cell_type": "code",
   "execution_count": 127,
   "metadata": {},
   "outputs": [
    {
     "data": {
      "text/plain": [
       "astropy.coordinates.sky_coordinate.SkyCoord"
      ]
     },
     "execution_count": 127,
     "metadata": {},
     "output_type": "execute_result"
    }
   ],
   "source": [
    "type(gal.transform_to(\"icrs\"))"
   ]
  },
  {
   "cell_type": "code",
   "execution_count": 128,
   "metadata": {
    "collapsed": true
   },
   "outputs": [],
   "source": [
    "eq2 = gal.transform_to(\"icrs\")"
   ]
  },
  {
   "cell_type": "code",
   "execution_count": 137,
   "metadata": {},
   "outputs": [],
   "source": [
    "ds_check = vx.from_arrays(d_ra=arr_coo[\"ALPHAWIN_J2000\"] - eq2.ra.deg,\n",
    "                          d_dec=arr_coo[\"DELTAWIN_J2000\"] - eq2.dec.deg\n",
    "                         )"
   ]
  },
  {
   "cell_type": "code",
   "execution_count": 150,
   "metadata": {},
   "outputs": [
    {
     "data": {
      "text/plain": [
       "Text(0.5,1,'RA differences when reverse transform is applied')"
      ]
     },
     "execution_count": 150,
     "metadata": {},
     "output_type": "execute_result"
    },
    {
     "data": {
      "image/png": "[encoded data removed]",
      "text/plain": [
       "<matplotlib.figure.Figure at 0x18157bc128>"
      ]
     },
     "metadata": {},
     "output_type": "display_data"
    }
   ],
   "source": [
    "ds_check.plot1d(\"d_ra\", \n",
    "                figsize=(6, 4),\n",
    "                xlabel=r\"$\\alpha$ - $\\alpha(l,b)$  $deg$\", \n",
    "                ylabel=\"N\", \n",
    "               )\n",
    "plt.title(\"RA differences when reverse transform is applied\")"
   ]
  },
  {
   "cell_type": "code",
   "execution_count": 152,
   "metadata": {},
   "outputs": [
    {
     "data": {
      "text/plain": [
       "Text(0.5,1,'DEC differences when reverse transform is applied')"
      ]
     },
     "execution_count": 152,
     "metadata": {},
     "output_type": "execute_result"
    },
    {
     "data": {
      "image/png": "[encoded data removed]",
      "text/plain": [
       "<matplotlib.figure.Figure at 0x1815ea9cc0>"
      ]
     },
     "metadata": {},
     "output_type": "display_data"
    }
   ],
   "source": [
    "ds_check.plot1d(\"d_dec\",\n",
    "                figsize=(6, 4),\n",
    "                xlabel=r\"$\\delta$ - $\\delta(l,b)$  $deg$\", \n",
    "                ylabel=\"N\", \n",
    "               )\n",
    "plt.title(\"DEC differences when reverse transform is applied\")"
   ]
  },
  {
   "cell_type": "code",
   "execution_count": 142,
   "metadata": {},
   "outputs": [
    {
     "name": "stdout",
     "output_type": "stream",
     "text": [
      "Equivalence of 1e-13 to mas: 3.6e-07\n"
     ]
    }
   ],
   "source": [
    "print(\"Equivalence of 1e-13 to mas: {0}\".format(1e-13*3600*1000))"
   ]
  },
  {
   "cell_type": "markdown",
   "metadata": {},
   "source": [
    "### Load into vaex"
   ]
  },
  {
   "cell_type": "code",
   "execution_count": 98,
   "metadata": {},
   "outputs": [],
   "source": [
    "# Read into vaex\n",
    "ds_gal = vx.from_arrays(L=arr_coo[\"L\"], \n",
    "                        B=arr_coo[\"B\"], \n",
    "                        L2=np.array(gal.l), \n",
    "                        B2=np.array(gal.b))"
   ]
  },
  {
   "cell_type": "code",
   "execution_count": 99,
   "metadata": {
    "collapsed": true
   },
   "outputs": [],
   "source": [
    "gc.collect()\n",
    "plt.close(\"all\")"
   ]
  },
  {
   "cell_type": "code",
   "execution_count": 103,
   "metadata": {},
   "outputs": [
    {
     "name": "stdout",
     "output_type": "stream",
     "text": [
      "Checking the percentage of the total: 20.00\n"
     ]
    }
   ],
   "source": [
    "print(\"Checking the percentage of the total: {0}%\".format(round(arr_coo.shape[0] / 4.e8 * 100)))"
   ]
  },
  {
   "cell_type": "code",
   "execution_count": 108,
   "metadata": {},
   "outputs": [
    {
     "name": "stderr",
     "output_type": "stream",
     "text": [
      "/Users/fco/anaconda3/lib/python3.6/site-packages/matplotlib/cbook/deprecation.py:106: MatplotlibDeprecationWarning: Adding an axes using the same arguments as a previous axes currently reuses the earlier instance.  In a future version, a new instance will always be created and returned.  Meanwhile, this warning can be suppressed, and the future behavior ensured, by passing a unique label to each axes instance.\n",
      "  warnings.warn(message, mplDeprecation, stacklevel=1)\n"
     ]
    },
    {
     "data": {
      "image/png": "[encoded data removed]",
      "text/plain": [
       "<matplotlib.figure.Figure at 0x18168f62e8>"
      ]
     },
     "metadata": {},
     "output_type": "display_data"
    }
   ],
   "source": [
    "fig, ax1 = plt.subplots(figsize=(8,6))\n",
    "ds_gal.plot([[\"L2\", \"L\"], [\"B2\", \"B\"]], \n",
    "            vmin=1,\n",
    "            aspect=\"equal\",\n",
    "            colormap=\"Spectral_r\", \n",
    "            background_color='white', \n",
    "            figsize=(12,5),\n",
    "            xlabel=[r\"l from ($\\alpha_{J2000}$, $\\delta_{J2000}$)\", r\"b from ($\\alpha_{J2000}$, $\\delta_{J2000}$)\"],\n",
    "            ylabel=[\"l\", \"b\"],\n",
    "            title=r\"($\\alpha$, $\\delta$) to ($l$, $b$). Subsample of {0}%\".format(round(arr_coo.shape[0] / 4.e8 * 100))\n",
    "           )\n",
    "plt.legend()\n",
    "plt.subplots_adjust(top=0.9)\n",
    "plt.savefig(\"lb_comparison_{0}pcent.png\".format(round(arr_coo.shape[0] / 4.e8 * 100)), \n",
    "            format=\"png\", dpi=500\n",
    "           )"
   ]
  },
  {
   "cell_type": "code",
   "execution_count": 122,
   "metadata": {},
   "outputs": [
    {
     "data": {
      "image/png": "[encoded data removed]",
      "text/plain": [
       "<matplotlib.figure.Figure at 0x18178bb780>"
      ]
     },
     "metadata": {},
     "output_type": "display_data"
    }
   ],
   "source": [
    "fig, ax1 = plt.subplots(figsize=(8,6))\n",
    "ds_gal.plot1d(\"B-B2\",# figsize=(8,5), \n",
    "              xlabel=r\"$b$ - $b_{(\\alpha, \\delta)}$\", \n",
    "              ylabel=\"N\",\n",
    "              label=\"{0}% of total objects\".format(round(arr_coo.shape[0] / 4.e8 * 100)),\n",
    "              color=\"red\", lw=3)\n",
    "plt.legend()\n",
    "#\n",
    "ax2 = ax1.twiny()\n",
    "v2 = (arr_coo[\"B\"] - np.array(gal.b)) * 3600 * 1000\n",
    "ax2.set_xlim([v2.min(), v2.max()])\n",
    "#\n",
    "ax2.set_xlabel(r\"$b$ - $b_{(\\alpha, \\delta)}$  $mas$\")\n",
    "# Use Auto Minor Locator\n",
    "minorLocator_x = AutoMinorLocator()\n",
    "ax1.xaxis.set_minor_locator(minorLocator_x)\n",
    "minorLocator_y = AutoMinorLocator()\n",
    "ax1.yaxis.set_minor_locator(minorLocator_y)\n",
    "# Use Auto Minor Locator\n",
    "minorLocator_x = AutoMinorLocator()\n",
    "ax2.xaxis.set_minor_locator(minorLocator_x)\n",
    "minorLocator_y = AutoMinorLocator()\n",
    "#\n",
    "plt.subplots_adjust(top=0.9)\n",
    "plt.savefig(\"b_hist_{0}pcent.png\".format(round(arr_coo.shape[0] / 4.e8 * 100)), \n",
    "            format=\"png\", dpi=500\n",
    "           )"
   ]
  },
  {
   "cell_type": "code",
   "execution_count": 124,
   "metadata": {},
   "outputs": [
    {
     "data": {
      "image/png": "[encoded data removed]",
      "text/plain": [
       "<matplotlib.figure.Figure at 0x1815ec3748>"
      ]
     },
     "metadata": {},
     "output_type": "display_data"
    }
   ],
   "source": [
    "fig, ax1 = plt.subplots(figsize=(8,6))\n",
    "ds_gal.plot1d(\"L-L2\", limits=[-0.0001,0.0001], #figsize=(8,5), \n",
    "              xlabel=r\"$l$ - $l_{(\\alpha, \\delta)}$\", \n",
    "              ylabel=\"N\",\n",
    "              label=\"{0}% of total objects\".format(round(arr_coo.shape[0] / 4.e8 * 100)),\n",
    "              color=\"royalblue\", \n",
    "              lw=3)\n",
    "plt.legend()\n",
    "#\n",
    "ax2 = ax1.twiny()\n",
    "v2 = (arr_coo[\"B\"] - np.array(gal.b)) * 3600 * 1000\n",
    "ax2.set_xlim([v2.min(), v2.max()])\n",
    "#\n",
    "ax2.set_xlabel(r\"$b$ - $b_{(\\alpha, \\delta)}$  $mas$\")\n",
    "# Use Auto Minor Locator\n",
    "minorLocator_x = AutoMinorLocator()\n",
    "ax1.xaxis.set_minor_locator(minorLocator_x)\n",
    "minorLocator_y = AutoMinorLocator()\n",
    "ax1.yaxis.set_minor_locator(minorLocator_y)\n",
    "# Use Auto Minor Locator\n",
    "minorLocator_x = AutoMinorLocator()\n",
    "ax2.xaxis.set_minor_locator(minorLocator_x)\n",
    "minorLocator_y = AutoMinorLocator()\n",
    "#\n",
    "plt.subplots_adjust(top=0.9)\n",
    "plt.savefig(\"l_hist_{0}pcent.png\".format(round(arr_coo.shape[0] / 4.e8 * 100)), \n",
    "            format=\"png\", dpi=500\n",
    "           )"
   ]
  },
  {
   "cell_type": "markdown",
   "metadata": {},
   "source": [
    "## Option 2: using astropy tables, for 1 subsample"
   ]
  },
  {
   "cell_type": "code",
   "execution_count": 16,
   "metadata": {
    "collapsed": true
   },
   "outputs": [],
   "source": [
    "# Read an unique FITS with astropy tables\n",
    "from astropy.io import fits\n",
    "from astropy.table import Table, Column\n",
    "hdu = fits.open(\"Y3A2_COADD_OBJECT_SUMMARY_COORDS_000015.fits\")\n",
    "tab = hdu[1].data\n",
    "tab.names\n",
    "tnew = Table()"
   ]
  },
  {
   "cell_type": "code",
   "execution_count": 17,
   "metadata": {},
   "outputs": [
    {
     "name": "stdout",
     "output_type": "stream",
     "text": [
      "Transformation complete\n"
     ]
    }
   ],
   "source": [
    "# Transform\n",
    "c_icrs = SkyCoord(ra=tab[\"ALPHAWIN_J2000\"]*u.degree, dec=tab[\"DELTAWIN_J2000\"]*u.degree, frame='icrs').galactic\n",
    "print(\"Transformation complete\")"
   ]
  },
  {
   "cell_type": "code",
   "execution_count": 18,
   "metadata": {
    "collapsed": true
   },
   "outputs": [],
   "source": [
    "# Create a lighter table\n",
    "arr_l, arr_b = np.array(c_icrs.l), np.array(c_icrs.b)\n",
    "tnew[\"L\"] = tab[\"L\"]\n",
    "tnew[\"B\"] = tab[\"B\"]\n",
    "hdu.close()\n",
    "tnew[\"L2\"] = Column(arr_l, unit=\"degrees\")\n",
    "tnew[\"B2\"] = Column(arr_b, unit=\"degrees\")"
   ]
  },
  {
   "cell_type": "code",
   "execution_count": 19,
   "metadata": {
    "collapsed": true
   },
   "outputs": [],
   "source": [
    "# Import to vaex\n",
    "ds = vx.from_astropy_table(tnew)"
   ]
  },
  {
   "cell_type": "code",
   "execution_count": 20,
   "metadata": {
    "collapsed": true
   },
   "outputs": [],
   "source": [
    "gc.collect()\n",
    "plt.close(\"all\")"
   ]
  },
  {
   "cell_type": "code",
   "execution_count": 21,
   "metadata": {},
   "outputs": [
    {
     "name": "stderr",
     "output_type": "stream",
     "text": [
      "/Users/fco/anaconda3/lib/python3.6/site-packages/matplotlib/cbook/deprecation.py:106: MatplotlibDeprecationWarning: Adding an axes using the same arguments as a previous axes currently reuses the earlier instance.  In a future version, a new instance will always be created and returned.  Meanwhile, this warning can be suppressed, and the future behavior ensured, by passing a unique label to each axes instance.\n",
      "  warnings.warn(message, mplDeprecation, stacklevel=1)\n"
     ]
    },
    {
     "data": {
      "image/png": "[encoded data removed]",
      "text/plain": [
       "<matplotlib.figure.Figure at 0x181f645978>"
      ]
     },
     "metadata": {},
     "output_type": "display_data"
    },
    {
     "data": {
      "image/png": "[encoded data removed]",
      "text/plain": [
       "<matplotlib.figure.Figure at 0x181a1cc5c0>"
      ]
     },
     "metadata": {},
     "output_type": "display_data"
    },
    {
     "data": {
      "image/png": "[encoded data removed]",
      "text/plain": [
       "<matplotlib.figure.Figure at 0x181b100e80>"
      ]
     },
     "metadata": {},
     "output_type": "display_data"
    }
   ],
   "source": [
    "# Do the plots\n",
    "if True:\n",
    "    ds.plot([[\"L2\", \"L\"], [\"B2\", \"B\"]], \n",
    "            vmin=1,\n",
    "            aspect=\"equal\",\n",
    "            colormap=\"Spectral_r\", \n",
    "            background_color='white', \n",
    "            figsize=(12,5),\n",
    "            xlabel=[r\"l from ($\\alpha_{J2000}$, $\\delta_{J2000}$)  $deg$\", r\"b from ($\\alpha_{J2000}$, $\\delta_{J2000}$)  $deg$\"],\n",
    "            ylabel=[\"l  $deg$\", \"b  $deg$\"],\n",
    "            title=r\"($\\alpha_{J2000}$, $\\delta_{J2000}$) to ($l$, $b$). Subsample of ~2e7 objects\")\n",
    "    plt.savefig(\"lb_comparison_subsample.png\", format=\"png\", dpi=500)\n",
    "\n",
    "    ds.plot1d(\"B-B2\", figsize=(8,5), \n",
    "              xlabel=r\"$b$ - $b_{(\\alpha, \\delta)}$\", \n",
    "              ylabel=\"N\",\n",
    "              label=\"~2e7 objects, units in deg\",\n",
    "              color=\"red\", lw=3)\n",
    "    plt.legend()\n",
    "    plt.savefig(\"b_hist_subsample.png\", format=\"png\", dpi=500)\n",
    "\n",
    "    ds.plot1d(\"L-L2\", limits=[-0.0001,0.0001],\n",
    "              figsize=(8,5), \n",
    "              xlabel=r\"$l$ - $l_{(\\alpha, \\delta)}$\", \n",
    "              ylabel=\"N\",\n",
    "              label=\"~2e7 objects, units in deg\",\n",
    "              color=\"royalblue\", lw=3)\n",
    "    plt.legend()\n",
    "    plt.savefig(\"l_hist_subsample.png\", format=\"png\", dpi=500)"
   ]
  },
  {
   "cell_type": "code",
   "execution_count": null,
   "metadata": {
    "collapsed": true
   },
   "outputs": [],
   "source": []
  },
  {
   "cell_type": "markdown",
   "metadata": {},
   "source": [
    "## Additional: check differences between (alpha, delta) <-> (ra, dec)"
   ]
  },
  {
   "cell_type": "code",
   "execution_count": 22,
   "metadata": {},
   "outputs": [
    {
     "name": "stdout",
     "output_type": "stream",
     "text": [
      "If no list of keys is input, then all are retrieved\n",
      "(18750000,)\n",
      "DR1_MAIN_COORDS_000001.fits loaded\n",
      "(18750000,)\n",
      "DR1_MAIN_COORDS_000002.fits loaded\n",
      "(15000000,)\n",
      "DR1_MAIN_COORDS_000003.fits loaded\n",
      "Elapsed time in reading the FITS: 0.20 min\n"
     ]
    }
   ],
   "source": [
    "coo50 = get_all(\"DR1_MAIN_COORDS_\")"
   ]
  },
  {
   "cell_type": "code",
   "execution_count": 26,
   "metadata": {},
   "outputs": [
    {
     "name": "stdout",
     "output_type": "stream",
     "text": [
      "Checking percentage of total: 13.12%\n"
     ]
    }
   ],
   "source": [
    "print(\"Checking percentage of total: {0:.2f}%\".format(coo50.shape[0]/4.e8 * 100))"
   ]
  },
  {
   "cell_type": "code",
   "execution_count": 27,
   "metadata": {},
   "outputs": [
    {
     "data": {
      "text/plain": [
       "dtype([('RA', '>f8'), ('DEC', '>f8'), ('ALPHAWIN_J2000', '>f8'), ('DELTAWIN_J2000', '>f8'), ('L', '>f8'), ('B', '>f8'), ('COADD_OBJECT_ID', '>i8')])"
      ]
     },
     "execution_count": 27,
     "metadata": {},
     "output_type": "execute_result"
    }
   ],
   "source": [
    "coo50.dtype"
   ]
  },
  {
   "cell_type": "code",
   "execution_count": 36,
   "metadata": {
    "collapsed": true
   },
   "outputs": [],
   "source": [
    "ds_tmp = vx.from_arrays(ra=coo50[\"RA\"], dec=coo50[\"DEC\"],\n",
    "                        alpha=coo50[\"ALPHAWIN_J2000\"], delta=coo50[\"DELTAWIN_J2000\"],\n",
    "                        diff1=coo50[\"RA\"]-coo50[\"ALPHAWIN_J2000\"],\n",
    "                        diff2=coo50[\"DEC\"]-coo50[\"DELTAWIN_J2000\"]\n",
    "                       )"
   ]
  },
  {
   "cell_type": "code",
   "execution_count": 79,
   "metadata": {},
   "outputs": [
    {
     "data": {
      "image/png": "[encoded data removed]",
      "text/plain": [
       "<matplotlib.figure.Figure at 0x1815d10da0>"
      ]
     },
     "metadata": {},
     "output_type": "display_data"
    }
   ],
   "source": [
    "# Difference between RA and ALPHAWIN\n",
    "fig, ax1 = plt.subplots(figsize=(8, 6))\n",
    "kw= {\"color\":\"blue\",\n",
    "     \"lw\":2,\n",
    "     \"label\":r\"RA - $\\alpha$. Sample of {0:.2f}%\".format(coo50.shape[0]/4.e8 * 100),\n",
    "    }\n",
    "ds_tmp.plot1d(\"diff1\", **kw)\n",
    "plt.legend()\n",
    "#\n",
    "ax2 = ax1.twiny()\n",
    "v2 = (coo50[\"RA\"]-coo50[\"ALPHAWIN_J2000\"]) * 3600 * 1000\n",
    "ax2.set_xlim([v2.min(), v2.max()])\n",
    "#\n",
    "ax1.set_xlabel(r\"(RA - $\\alpha$)  $deg$\")\n",
    "ax2.set_xlabel(r\"(RA - $\\alpha$)  $mas$\")\n",
    "ax1.set_ylabel(\"N\")\n",
    "\n",
    "plt.subplots_adjust(top=0.9)\n",
    "\n",
    "plt.savefig(\"ra_alpha_subsample.png\", format=\"png\", dpi=500)"
   ]
  },
  {
   "cell_type": "code",
   "execution_count": 80,
   "metadata": {},
   "outputs": [
    {
     "data": {
      "image/png": "[encoded data removed]",
      "text/plain": [
       "<matplotlib.figure.Figure at 0x1818d8a0f0>"
      ]
     },
     "metadata": {},
     "output_type": "display_data"
    }
   ],
   "source": [
    "# Difference between DEC and DELTAWIN\n",
    "fig, ax1 = plt.subplots(figsize=(8, 6))\n",
    "kw= {\"color\":\"orange\",\n",
    "     \"lw\":2,\n",
    "     \"label\":r\"DEC - $\\delta$. Sample of {0:.2f}%\".format(coo50.shape[0]/4.e8 * 100),\n",
    "    }\n",
    "ds_tmp.plot1d(\"diff2\", **kw)\n",
    "plt.legend()\n",
    "#\n",
    "ax2 = ax1.twiny()\n",
    "v2 = (coo50[\"DEC\"]-coo50[\"DELTAWIN_J2000\"]) * 3600 * 1000\n",
    "ax2.set_xlim([v2.min(), v2.max()])\n",
    "#\n",
    "ax1.set_xlabel(r\"(DEC - $\\delta$)  $deg$\")\n",
    "ax2.set_xlabel(r\"(DEC - $\\delta$)  $mas$\")\n",
    "ax1.set_ylabel(\"N\")\n",
    "\n",
    "plt.subplots_adjust(top=0.9)\n",
    "\n",
    "plt.savefig(\"dec_delta_subsample.png\", format=\"png\", dpi=500)"
   ]
  }
 ],
 "metadata": {
  "kernelspec": {
   "display_name": "Python 3",
   "language": "python",
   "name": "python3"
  },
  "language_info": {
   "codemirror_mode": {
    "name": "ipython",
    "version": 3
   },
   "file_extension": ".py",
   "mimetype": "text/x-python",
   "name": "python",
   "nbconvert_exporter": "python",
   "pygments_lexer": "ipython3",
   "version": "3.6.3"
  },
  "widgets": {
   "application/vnd.jupyter.widget-state+json": {
    "state": {
     "024e107e6c494c34a6e5a838efebf583": {
      "model_module": "@jupyter-widgets/controls",
      "model_module_version": "1.0.0",
      "model_name": "DescriptionStyleModel",
      "state": {
       "description_width": ""
      }
     },
     "046fb56b6bdf4ef4b8cb8a2aaa9f3cb6": {
      "model_module": "bqplot",
      "model_module_version": "^0.3.0",
      "model_name": "LinearScaleModel",
      "state": {
       "max": 298.94630071695053,
       "min": 242.07014129563868,
       "stabilized": false
      }
     },
     "0691c59c1bdf444880cf81b3a9517d46": {
      "model_module": "bqplot",
      "model_module_version": "^0.3.0",
      "model_name": "AxisModel",
      "state": {
       "scale": "IPY_MODEL_046fb56b6bdf4ef4b8cb8a2aaa9f3cb6",
       "side": "bottom",
       "tick_values": {
        "type": null,
        "values": null
       }
      }
     },
     "104ad23cbeab4bedab59097b2222a9d4": {
      "model_module": "@jupyter-widgets/base",
      "model_module_version": "1.0.0",
      "model_name": "LayoutModel",
      "state": {}
     },
     "1342790f62064a2a8542d4771e3dd220": {
      "model_module": "@jupyter-widgets/base",
      "model_module_version": "1.0.0",
      "model_name": "LayoutModel",
      "state": {
       "max_width": "500px",
       "min_width": "125px",
       "width": "100%"
      }
     },
     "1b53f8e4d7944c60baa086f2bfcbf8e1": {
      "model_module": "@jupyter-widgets/base",
      "model_module_version": "1.0.0",
      "model_name": "LayoutModel",
      "state": {}
     },
     "2d5be8ba1c894361a299345552adcc49": {
      "model_module": "@jupyter-widgets/controls",
      "model_module_version": "1.0.0",
      "model_name": "DropdownModel",
      "state": {
       "_options_labels": [
        "replace",
        "and",
        "or",
        "xor",
        "subtract"
       ],
       "description": "select",
       "index": 0,
       "layout": "IPY_MODEL_bd1096ea0f4446a29e4692c7f49c87b6",
       "style": "IPY_MODEL_024e107e6c494c34a6e5a838efebf583"
      }
     },
     "2df50b80fbae4abfa08f680b51266568": {
      "model_module": "bqplot",
      "model_module_version": "^0.3.0",
      "model_name": "LinearScaleModel",
      "state": {
       "max": 1,
       "min": 0,
       "stabilized": false
      }
     },
     "320b1c51380b48a6900ff08a3b97cc6f": {
      "model_module": "@jupyter-widgets/base",
      "model_module_version": "1.0.0",
      "model_name": "LayoutModel",
      "state": {}
     },
     "3274a5da736845079e327c5b2c2bcba0": {
      "model_module": "bqplot",
      "model_module_version": "^0.3.0",
      "model_name": "LinearScaleModel",
      "state": {
       "max": 1,
       "min": 0,
       "stabilized": false
      }
     },
     "352de901307d45a398a3817c2e0a964e": {
      "model_module": "@jupyter-widgets/base",
      "model_module_version": "1.0.0",
      "model_name": "LayoutModel",
      "state": {
       "max_width": "500px",
       "width": "95%"
      }
     },
     "42333ea61d5747dd812691ae871f55a2": {
      "model_module": "@jupyter-widgets/base",
      "model_module_version": "1.0.0",
      "model_name": "LayoutModel",
      "state": {}
     },
     "4b9f9595ea8c46acb35df97a3a702fb2": {
      "model_module": "bqplot",
      "model_module_version": "^0.3.0",
      "model_name": "BrushSelectorModel",
      "state": {
       "color": "green",
       "x_scale": "IPY_MODEL_046fb56b6bdf4ef4b8cb8a2aaa9f3cb6",
       "y_scale": "IPY_MODEL_b9c15e59408342e59d09dc6b98d7db4c"
      }
     },
     "4e3bda5fd21c4210827a1612a17ee524": {
      "model_module": "@jupyter-widgets/controls",
      "model_module_version": "1.0.0",
      "model_name": "VBoxModel",
      "state": {
       "children": [
        "IPY_MODEL_abfb18d43fc546c59dfd6015d00841d5"
       ],
       "layout": "IPY_MODEL_42333ea61d5747dd812691ae871f55a2"
      }
     },
     "552320539d7541aeb154c8bad793d9ce": {
      "model_module": "@jupyter-widgets/controls",
      "model_module_version": "1.0.0",
      "model_name": "ButtonModel",
      "state": {
       "icon": "trash-o",
       "layout": "IPY_MODEL_f855366e8f2b4603837e970e12213c8b",
       "style": "IPY_MODEL_d19abae17fd54efbaa4091b6849e338c"
      }
     },
     "55eb193eca3f40aca9f0b6c4c3ced767": {
      "model_module": "bqplot",
      "model_module_version": "^0.3.0",
      "model_name": "PanZoomModel",
      "state": {
       "scales": {
        "x": [
         "IPY_MODEL_046fb56b6bdf4ef4b8cb8a2aaa9f3cb6"
        ],
        "y": [
         "IPY_MODEL_b9c15e59408342e59d09dc6b98d7db4c"
        ]
       }
      }
     },
     "56046032f4c149549448adae4bf8935f": {
      "model_module": "@jupyter-widgets/output",
      "model_module_version": "1.0.0",
      "model_name": "OutputModel",
      "state": {
       "layout": "IPY_MODEL_7257ecc0a07e4b829caac29ace30477b"
      }
     },
     "5652fa64d4c64cb7a5db6d5ad4a4459c": {
      "model_module": "@jupyter-widgets/controls",
      "model_module_version": "1.0.0",
      "model_name": "VBoxModel",
      "state": {
       "children": [
        "IPY_MODEL_f52f8b6bd6674fe2991adaeaf0e0c8e2",
        "IPY_MODEL_67c8a4847aed4cf8a7a86bcccc63efd5",
        "IPY_MODEL_e96423c170804c48acd2811cba5b860d",
        "IPY_MODEL_56046032f4c149549448adae4bf8935f"
       ],
       "layout": "IPY_MODEL_d2678e8a6d4e4fc3baa4a00f41281566"
      }
     },
     "57ac5713e0974c0e88e773ca256cefb1": {
      "model_module": "@jupyter-widgets/controls",
      "model_module_version": "1.0.0",
      "model_name": "HBoxModel",
      "state": {
       "children": [
        "IPY_MODEL_68336832a4084735969fee0273dec8a3",
        "IPY_MODEL_552320539d7541aeb154c8bad793d9ce"
       ],
       "layout": "IPY_MODEL_e6c743cf0cf44e38b8555a2b85e60b05"
      }
     },
     "5d0a7a904f1f43c39d352e4478f359da": {
      "model_module": "bqplot",
      "model_module_version": "^0.3.0",
      "model_name": "FigureModel",
      "state": {
       "_dom_classes": [],
       "axes": [
        "IPY_MODEL_0691c59c1bdf444880cf81b3a9517d46",
        "IPY_MODEL_86a4977da6e3496c885be94683ded6ea"
       ],
       "fig_margin": {
        "bottom": 30,
        "left": 60,
        "right": 0,
        "top": 0
       },
       "interaction": "IPY_MODEL_55eb193eca3f40aca9f0b6c4c3ced767",
       "layout": "IPY_MODEL_1342790f62064a2a8542d4771e3dd220",
       "marks": [
        "IPY_MODEL_882cf141e05846cf8d3e7197331e6fba",
        "IPY_MODEL_66a3c4b4a8c74f9190d687a9983dfaf1",
        "IPY_MODEL_a4913673dc6c4f68b068f79b2f75f0d9"
       ],
       "max_aspect_ratio": 6,
       "padding_y": 0,
       "scale_x": "IPY_MODEL_61a742ae687f46a69533b0d792812446",
       "scale_y": "IPY_MODEL_cd6359504c7243f1bdd97f4484a99a87"
      }
     },
     "61a742ae687f46a69533b0d792812446": {
      "model_module": "bqplot",
      "model_module_version": "^0.3.0",
      "model_name": "LinearScaleModel",
      "state": {
       "allow_padding": false,
       "max": 1,
       "min": 0,
       "stabilized": false
      }
     },
     "66a3c4b4a8c74f9190d687a9983dfaf1": {
      "model_module": "vaex.ext.bqplot",
      "model_module_version": "^0.3.0",
      "model_name": "ImageModel",
      "state": {
       "display_legend": false,
       "height": -10.480046052934824,
       "preserve_aspect_ratio": "",
       "scales": {
        "opacity": "IPY_MODEL_e8b846bd5f384839a5688c8541df4ee8",
        "rotation": "IPY_MODEL_2df50b80fbae4abfa08f680b51266568",
        "size": "IPY_MODEL_3274a5da736845079e327c5b2c2bcba0",
        "x": "IPY_MODEL_046fb56b6bdf4ef4b8cb8a2aaa9f3cb6",
        "y": "IPY_MODEL_b9c15e59408342e59d09dc6b98d7db4c"
       },
       "scales_metadata": {
        "x": {
         "dimension": "x",
         "orientation": "horizontal"
        },
        "y": {
         "dimension": "y",
         "orientation": "vertical"
        }
       },
       "selected": [],
       "src": "data:image/png;base64,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",
       "view_count": 1,
       "width": 56.876159421311854,
       "x": 242.07014129563868,
       "y": -37.04970286770049
      }
     },
     "67c8a4847aed4cf8a7a86bcccc63efd5": {
      "model_module": "@jupyter-widgets/controls",
      "model_module_version": "1.0.0",
      "model_name": "VBoxModel",
      "state": {
       "children": [
        "IPY_MODEL_4e3bda5fd21c4210827a1612a17ee524",
        "IPY_MODEL_5d0a7a904f1f43c39d352e4478f359da"
       ],
       "layout": "IPY_MODEL_1b53f8e4d7944c60baa086f2bfcbf8e1"
      }
     },
     "68336832a4084735969fee0273dec8a3": {
      "model_module": "@jupyter-widgets/controls",
      "model_module_version": "1.0.0",
      "model_name": "ToggleButtonsModel",
      "state": {
       "_options_labels": [
        "pan/zoom",
        "select"
       ],
       "button_style": "",
       "icons": [
        "arrows",
        "pencil-square-o"
       ],
       "index": 0,
       "layout": "IPY_MODEL_104ad23cbeab4bedab59097b2222a9d4",
       "style": "IPY_MODEL_f31ba2c28a3d4aee84611da6ae554b12",
       "tooltips": []
      }
     },
     "6f19e25e9d13429abf0a9e8c8e62a447": {
      "model_module": "@jupyter-widgets/controls",
      "model_module_version": "1.0.0",
      "model_name": "ButtonStyleModel",
      "state": {}
     },
     "7257ecc0a07e4b829caac29ace30477b": {
      "model_module": "@jupyter-widgets/base",
      "model_module_version": "1.0.0",
      "model_name": "LayoutModel",
      "state": {}
     },
     "86a4977da6e3496c885be94683ded6ea": {
      "model_module": "bqplot",
      "model_module_version": "^0.3.0",
      "model_name": "AxisModel",
      "state": {
       "orientation": "vertical",
       "scale": "IPY_MODEL_b9c15e59408342e59d09dc6b98d7db4c",
       "side": "left",
       "tick_values": {
        "type": null,
        "values": null
       }
      }
     },
     "882cf141e05846cf8d3e7197331e6fba": {
      "model_module": "bqplot",
      "model_module_version": "^0.3.0",
      "model_name": "ScatterModel",
      "state": {
       "_model_module": "bqplot",
       "_model_module_version": "^0.3.0",
       "_view_count": null,
       "_view_module": "bqplot",
       "_view_module_version": "^0.3.0",
       "apply_clip": true,
       "color": {
        "type": null,
        "values": null
       },
       "colors": [
        "DeepSkyBlue"
       ],
       "display_legend": false,
       "enable_hover": true,
       "hovered_style": {},
       "interactions": {
        "hover": "tooltip"
       },
       "labels": [],
       "names": {
        "type": null,
        "values": null
       },
       "opacity": {
        "type": null,
        "values": null
       },
       "preserve_domain": {},
       "rotation": {
        "type": "float",
        "values": [
         0,
         1,
         2,
         3,
         4,
         5,
         6,
         7,
         8,
         9
        ]
       },
       "scales": {
        "opacity": "IPY_MODEL_e8b846bd5f384839a5688c8541df4ee8",
        "rotation": "IPY_MODEL_2df50b80fbae4abfa08f680b51266568",
        "size": "IPY_MODEL_3274a5da736845079e327c5b2c2bcba0",
        "x": "IPY_MODEL_046fb56b6bdf4ef4b8cb8a2aaa9f3cb6",
        "y": "IPY_MODEL_b9c15e59408342e59d09dc6b98d7db4c"
       },
       "scales_metadata": {
        "color": {
         "dimension": "color"
        },
        "opacity": {
         "dimension": "opacity"
        },
        "rotation": {
         "dimension": "rotation"
        },
        "size": {
         "dimension": "size"
        },
        "skew": {
         "dimension": "skew"
        },
        "x": {
         "dimension": "x",
         "orientation": "horizontal"
        },
        "y": {
         "dimension": "y",
         "orientation": "vertical"
        }
       },
       "selected": [],
       "selected_style": {},
       "size": {
        "type": null,
        "values": null
       },
       "skew": {
        "type": null,
        "values": null
       },
       "tooltip": null,
       "tooltip_location": "mouse",
       "tooltip_style": {
        "opacity": 0.9
       },
       "unhovered_style": {},
       "unselected_style": {},
       "visible": false,
       "x": {
        "type": "float",
        "values": [
         0,
         1,
         2,
         3,
         4,
         5,
         6,
         7,
         8,
         9
        ]
       },
       "y": {
        "type": "float",
        "values": [
         0,
         1,
         4,
         9,
         16,
         25,
         36,
         49,
         64,
         81
        ]
       }
      }
     },
     "892c0dcedeac45f7b9a3cb266cbb0b95": {
      "model_module": "@jupyter-widgets/controls",
      "model_module_version": "1.0.0",
      "model_name": "HBoxModel",
      "state": {
       "layout": "IPY_MODEL_b40e5aaf1c67438abde882b370e21a5b"
      }
     },
     "a4913673dc6c4f68b068f79b2f75f0d9": {
      "model_module": "bqplot",
      "model_module_version": "^0.3.0",
      "model_name": "ScatterModel",
      "state": {
       "_model_module": "bqplot",
       "_model_module_version": "^0.3.0",
       "_view_count": null,
       "_view_module": "bqplot",
       "_view_module_version": "^0.3.0",
       "apply_clip": true,
       "color": {
        "type": null,
        "values": null
       },
       "colors": [
        "DeepSkyBlue"
       ],
       "display_legend": false,
       "enable_hover": true,
       "hovered_style": {},
       "interactions": {
        "hover": "tooltip"
       },
       "labels": [],
       "marker": "arrow",
       "names": {
        "type": null,
        "values": null
       },
       "opacity": {
        "type": null,
        "values": null
       },
       "preserve_domain": {},
       "rotation": {
        "type": "float",
        "values": [
         0,
         1,
         2,
         3,
         4,
         5,
         6,
         7,
         8,
         9
        ]
       },
       "scales": {
        "opacity": "IPY_MODEL_e8b846bd5f384839a5688c8541df4ee8",
        "rotation": "IPY_MODEL_2df50b80fbae4abfa08f680b51266568",
        "size": "IPY_MODEL_3274a5da736845079e327c5b2c2bcba0",
        "x": "IPY_MODEL_046fb56b6bdf4ef4b8cb8a2aaa9f3cb6",
        "y": "IPY_MODEL_b9c15e59408342e59d09dc6b98d7db4c"
       },
       "scales_metadata": {
        "color": {
         "dimension": "color"
        },
        "opacity": {
         "dimension": "opacity"
        },
        "rotation": {
         "dimension": "rotation"
        },
        "size": {
         "dimension": "size"
        },
        "skew": {
         "dimension": "skew"
        },
        "x": {
         "dimension": "x",
         "orientation": "horizontal"
        },
        "y": {
         "dimension": "y",
         "orientation": "vertical"
        }
       },
       "selected": [],
       "selected_style": {},
       "size": {
        "type": "float",
        "values": [
         0,
         1,
         2,
         3,
         4,
         5,
         6,
         7,
         8,
         9
        ]
       },
       "skew": {
        "type": null,
        "values": null
       },
       "tooltip": null,
       "tooltip_location": "mouse",
       "tooltip_style": {
        "opacity": 0.9
       },
       "unhovered_style": {},
       "unselected_style": {},
       "visible": false,
       "x": {
        "type": "float",
        "values": [
         0,
         1,
         2,
         3,
         4,
         5,
         6,
         7,
         8,
         9
        ]
       },
       "y": {
        "type": "float",
        "values": [
         0,
         1,
         4,
         9,
         16,
         25,
         36,
         49,
         64,
         81
        ]
       }
      }
     },
     "abfb18d43fc546c59dfd6015d00841d5": {
      "model_module": "@jupyter-widgets/controls",
      "model_module_version": "1.0.0",
      "model_name": "VBoxModel",
      "state": {
       "children": [
        "IPY_MODEL_57ac5713e0974c0e88e773ca256cefb1",
        "IPY_MODEL_892c0dcedeac45f7b9a3cb266cbb0b95"
       ],
       "layout": "IPY_MODEL_c439e8e43ddb45e5b2bb01e054b4d035"
      }
     },
     "ad96c0ea187f48618c8208cbc4e2bc07": {
      "model_module": "@jupyter-widgets/base",
      "model_module_version": "1.0.0",
      "model_name": "WidgetModel",
      "state": {
       "_view_module": null,
       "_view_module_version": "",
       "smooth_post": null,
       "smooth_pre": null,
       "vcount_limits": null,
       "vx": "",
       "vy": "",
       "vz": "",
       "w": null,
       "what": "count(*)",
       "x": "L",
       "y": "B",
       "z": null
      }
     },
     "b2bfa2b4dc494e3e9d855ceef9719929": {
      "model_module": "@jupyter-widgets/controls",
      "model_module_version": "1.0.0",
      "model_name": "ButtonModel",
      "state": {
       "icon": "refresh",
       "layout": "IPY_MODEL_f01b4988dad44c9e9c459cbd9fdd9bbf",
       "style": "IPY_MODEL_6f19e25e9d13429abf0a9e8c8e62a447"
      }
     },
     "b40e5aaf1c67438abde882b370e21a5b": {
      "model_module": "@jupyter-widgets/base",
      "model_module_version": "1.0.0",
      "model_name": "LayoutModel",
      "state": {}
     },
     "b9c15e59408342e59d09dc6b98d7db4c": {
      "model_module": "bqplot",
      "model_module_version": "^0.3.0",
      "model_name": "LinearScaleModel",
      "state": {
       "max": -37.04970286770049,
       "min": -47.52974892063531,
       "stabilized": false
      }
     },
     "bd1096ea0f4446a29e4692c7f49c87b6": {
      "model_module": "@jupyter-widgets/base",
      "model_module_version": "1.0.0",
      "model_name": "LayoutModel",
      "state": {}
     },
     "c439e8e43ddb45e5b2bb01e054b4d035": {
      "model_module": "@jupyter-widgets/base",
      "model_module_version": "1.0.0",
      "model_name": "LayoutModel",
      "state": {}
     },
     "cd6359504c7243f1bdd97f4484a99a87": {
      "model_module": "bqplot",
      "model_module_version": "^0.3.0",
      "model_name": "LinearScaleModel",
      "state": {
       "allow_padding": false,
       "max": 1,
       "min": 0,
       "stabilized": false
      }
     },
     "d19abae17fd54efbaa4091b6849e338c": {
      "model_module": "@jupyter-widgets/controls",
      "model_module_version": "1.0.0",
      "model_name": "ButtonStyleModel",
      "state": {}
     },
     "d2678e8a6d4e4fc3baa4a00f41281566": {
      "model_module": "@jupyter-widgets/base",
      "model_module_version": "1.0.0",
      "model_name": "LayoutModel",
      "state": {}
     },
     "e6c743cf0cf44e38b8555a2b85e60b05": {
      "model_module": "@jupyter-widgets/base",
      "model_module_version": "1.0.0",
      "model_name": "LayoutModel",
      "state": {}
     },
     "e763060c2c904bf9b7f0dd386391ea4b": {
      "model_module": "@jupyter-widgets/controls",
      "model_module_version": "1.0.0",
      "model_name": "ProgressStyleModel",
      "state": {
       "description_width": ""
      }
     },
     "e8b846bd5f384839a5688c8541df4ee8": {
      "model_module": "bqplot",
      "model_module_version": "^0.3.0",
      "model_name": "LinearScaleModel",
      "state": {
       "max": 1,
       "min": 0,
       "stabilized": false
      }
     },
     "e96423c170804c48acd2811cba5b860d": {
      "model_module": "@jupyter-widgets/controls",
      "model_module_version": "1.0.0",
      "model_name": "FloatProgressModel",
      "state": {
       "description": "progress",
       "layout": "IPY_MODEL_352de901307d45a398a3817c2e0a964e",
       "max": 1,
       "style": "IPY_MODEL_e763060c2c904bf9b7f0dd386391ea4b"
      }
     },
     "f01b4988dad44c9e9c459cbd9fdd9bbf": {
      "model_module": "@jupyter-widgets/base",
      "model_module_version": "1.0.0",
      "model_name": "LayoutModel",
      "state": {}
     },
     "f31ba2c28a3d4aee84611da6ae554b12": {
      "model_module": "@jupyter-widgets/controls",
      "model_module_version": "1.0.0",
      "model_name": "ToggleButtonsStyleModel",
      "state": {
       "_model_module": "@jupyter-widgets/controls",
       "button_width": ""
      }
     },
     "f52f8b6bd6674fe2991adaeaf0e0c8e2": {
      "model_module": "@jupyter-widgets/controls",
      "model_module_version": "1.0.0",
      "model_name": "VBoxModel",
      "state": {
       "layout": "IPY_MODEL_320b1c51380b48a6900ff08a3b97cc6f"
      }
     },
     "f855366e8f2b4603837e970e12213c8b": {
      "model_module": "@jupyter-widgets/base",
      "model_module_version": "1.0.0",
      "model_name": "LayoutModel",
      "state": {}
     }
    },
    "version_major": 2,
    "version_minor": 0
   }
  }
 },
 "nbformat": 4,
 "nbformat_minor": 2
}
