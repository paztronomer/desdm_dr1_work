{
 "cells": [
  {
   "cell_type": "code",
   "execution_count": null,
   "metadata": {
    "collapsed": true
   },
   "outputs": [],
   "source": [
    "import os\n",
    "import sys\n",
    "import time\n",
    "import numpy as np\n",
    "import pandas as pd\n",
    "import fitsio\n",
    "import matplotlib.pyplot as plt\n",
    "from matplotlib.ticker import AutoMinorLocator\n",
    "import vaex as vx\n",
    "import easyaccess as ea\n",
    "from descolors import BAND_COLORS\n",
    "%matplotlib inline"
   ]
  },
  {
   "cell_type": "markdown",
   "metadata": {},
   "source": [
    "# Iterative open FITS"
   ]
  },
  {
   "cell_type": "code",
   "execution_count": null,
   "metadata": {
    "collapsed": true
   },
   "outputs": [],
   "source": [
    "def get_all(pattern, columns=None):\n",
    "    \"\"\" Function to get the FITS files into a single record array\n",
    "    \"\"\"\n",
    "    if (not isinstance(columns, list)):\n",
    "        print(\"If no list of keys is input, then all are retrieved\")\n",
    "    counter = True\n",
    "    t0 = time.time()\n",
    "    for root, dirnm, filenm in os.walk(os.getcwd()):\n",
    "        for idx, f in enumerate(filenm):\n",
    "            if (pattern in f):\n",
    "                # Get the file extension\n",
    "                aux_fnm, aux_extension = os.path.splitext(f)\n",
    "                if (aux_extension.upper() == \".FITS\"):\n",
    "                    hdu = fitsio.FITS(f)\n",
    "                    if counter:\n",
    "                        if (columns is None):\n",
    "                            r_arr = hdu[1].read()\n",
    "                        else:\n",
    "                            r_arr = hdu[1].read()[columns]\n",
    "                        counter = False\n",
    "                    else:\n",
    "                        if (columns is None):\n",
    "                            r_arr = np.concatenate((r_arr, hdu[1].read()))\n",
    "                        else:\n",
    "                            r_arr = np.concatenate((r_arr, hdu[1].read()[columns]))\n",
    "                    hdu.close()\n",
    "                    print(\"{0} loaded\".format(f))\n",
    "                elif ((aux_extension.upper == \".h5\") or (aux_extension.upper == \".hdf5\")):\n",
    "                    \n",
    "                    \n",
    "                    pass\n",
    "                    # load the entire file and then subsample inside the df\n",
    "                    \n",
    "                    \n",
    "                else:\n",
    "                    print(\"ERROR\")\n",
    "    print(\"Elapsed time in reading the FITS: {0:.2f} min\".format((time.time() - t0) / 60.))\n",
    "    return r_arr"
   ]
  },
  {
   "cell_type": "markdown",
   "metadata": {},
   "source": [
    "#### Below function is not optimal for N>1e4 because of the query time"
   ]
  },
  {
   "cell_type": "code",
   "execution_count": null,
   "metadata": {
    "collapsed": true
   },
   "outputs": [],
   "source": [
    "def get_imaflags_iso(id_list, band=[\"g\", \"r\", \"i\", \"z\", \"Y\"], dbname=\"dessci\"):\n",
    "    \"\"\" Function to retrieve the IMAFLAG_ISO from the Y3A2_COADD_OBJECT_SUMMARY table, per band\n",
    "    \"\"\"\n",
    "    aux_col = \",\".join([\"IMAFLAGS_ISO_{0}\".format(b.upper()) for b in band])\n",
    "    aux_id = \",\".join(map(str, id_list))\n",
    "    q = \"select COADD_OBJECT_ID,{0}\".format(aux_col)\n",
    "    q += \" from Y3A2_COADD_OBJECT_SUMMARY\"\n",
    "    q += \" where COADD_OBJECT_ID in ({0})\".format(aux_id)\n",
    "    q += \" order by COADD_OBJECT_ID\"\n",
    "    connect = ea.connect(dbname)\n",
    "    cursor = connect.cursor()\n",
    "    df_res = connect.query_to_pandas(q)\n",
    "    connect.close()\n",
    "    return df_res"
   ]
  },
  {
   "cell_type": "markdown",
   "metadata": {},
   "source": [
    "### Get the data. A previous mag_iso_{band} < 21 cut was applied"
   ]
  },
  {
   "cell_type": "code",
   "execution_count": null,
   "metadata": {
    "collapsed": false
   },
   "outputs": [],
   "source": [
    "tab = get_all(\"Y3A2_COADD_SUMMARY_mag21_extwavg_flags.fits\") \n",
    "#(\"Y3A2_COADD_OBJECT_flux_extwavg_radius\")\n",
    "# table \"Y3A2_COADD_OBJECT_mag_extwavg_small.fits\" doesn't comntain FLAG info and is only mag-restricted to be \n",
    "# mag_auto_i < 21\n",
    "#\n",
    "# x = pd.read_hdf(\"Y3A2_COADD_OBJECT_flux_extwavg_radius_000001.fits\")\n",
    "# y = pd.read_hdf(\"dr1_band_i_10pcent_20171101_000001.h5\")\n",
    "# z = pd.concat([x, y])\n",
    "# x.info()"
   ]
  },
  {
   "cell_type": "markdown",
   "metadata": {},
   "source": [
    "## FITS are loaded in big-endian, and pandas needs it in little-endian, so must change it"
   ]
  },
  {
   "cell_type": "code",
   "execution_count": null,
   "metadata": {
    "collapsed": true
   },
   "outputs": [],
   "source": [
    "tab = tab.byteswap().newbyteorder()"
   ]
  },
  {
   "cell_type": "markdown",
   "metadata": {},
   "source": [
    "### For easier usage, pass recarray to pandas dataframe"
   ]
  },
  {
   "cell_type": "code",
   "execution_count": null,
   "metadata": {
    "collapsed": true
   },
   "outputs": [],
   "source": [
    "kw0 = tab.dtype.names\n",
    "val0 = [tab[i] for i in kw0]\n",
    "d = dict(zip(kw0, val0))"
   ]
  },
  {
   "cell_type": "code",
   "execution_count": null,
   "metadata": {
    "collapsed": false
   },
   "outputs": [],
   "source": [
    "df = pd.DataFrame(d)\n",
    "df.columns"
   ]
  },
  {
   "cell_type": "markdown",
   "metadata": {},
   "source": [
    "### Need to discard magnitudes +/- 99\n",
    "#### Is a little slow, maybe change to df.drop(index, inplace=True)"
   ]
  },
  {
   "cell_type": "code",
   "execution_count": null,
   "metadata": {
    "collapsed": true
   },
   "outputs": [],
   "source": [
    "for B in [\"g\", \"r\", \"i\", \"z\", \"Y\"]:\n",
    "    # Expliciting conditions\n",
    "    c99_a = ~((df[\"{0}_MAG_AUTO\".format(B.upper())] == -99) | (df[\"{0}_MAG_AUTO\".format(B.upper())] == 99))\n",
    "    c99_b = ~((df[\"{0}_MAG_PETRO\".format(B.upper())] == -99) | (df[\"{0}_MAG_PETRO\".format(B.upper())] == 99))\n",
    "    c99_c = ~((df[\"{0}_WAVG_MAG_PSF\".format(B.upper())] == -99) | (df[\"{0}_WAVG_MAG_PSF\".format(B.upper())] == 99))\n",
    "    # Drop rows obeying the condition\n",
    "    df = df.loc[c99_a]\n",
    "    df = df.loc[c99_b]\n",
    "    df = df.loc[c99_c]\n",
    "    for AP in np.arange(1, 13):\n",
    "        aux_mag = \"{0}_MAG_APER_{1}\".format(B.upper(), AP)\n",
    "        c99_aper = ~((df[aux_mag] == -99) | (df[aux_mag] == 99))\n",
    "        df = df.loc[c99_aper]\n",
    "# Reset indices\n",
    "df.reset_index(inplace=True)"
   ]
  },
  {
   "cell_type": "markdown",
   "metadata": {},
   "source": [
    "# Profile plots using aperture magnitude"
   ]
  },
  {
   "cell_type": "markdown",
   "metadata": {},
   "source": [
    "### Plot per band"
   ]
  },
  {
   "cell_type": "code",
   "execution_count": null,
   "metadata": {
    "collapsed": true
   },
   "outputs": [],
   "source": [
    "bs = [\"g\", \"r\", \"i\", \"z\", \"Y\"]\n",
    "ap = np.arange(1, 13) "
   ]
  },
  {
   "cell_type": "markdown",
   "metadata": {},
   "source": [
    "### Make copies of the DataFrame to safely play with them"
   ]
  },
  {
   "cell_type": "code",
   "execution_count": null,
   "metadata": {
    "collapsed": true
   },
   "outputs": [],
   "source": [
    "df_aux1 = df.copy(deep=True)\n",
    "df_aux2 = df.copy(deep=True)"
   ]
  },
  {
   "cell_type": "markdown",
   "metadata": {},
   "source": [
    "### Normalize each object set of magnitudes using MAG_APER_4"
   ]
  },
  {
   "cell_type": "code",
   "execution_count": null,
   "metadata": {
    "collapsed": true
   },
   "outputs": [],
   "source": [
    "# For df_aux1. This method does some weird shape\n",
    "for b in bs:\n",
    "    for a in ap:\n",
    "        aux_key = \"{0}_MAG_APER_{1}\".format(b.upper(), a)\n",
    "        aux_key_ap4 = \"{0}_MAG_APER_4\".format(b.upper())\n",
    "        df_aux1[aux_key] -= df[aux_key_ap4]\n",
    "\n",
    "# for idx, row in df.iterrows():\n",
    "#     for b in bs:\n",
    "#         for a in ap:\n",
    "#             aux_key = \"{0}_MAG_APER_{1}\".format(b.upper(), a)\n",
    "#             aux_key_ap4 = \"{0}_MAG_APER_4\".format(b.upper())\n",
    "#             row[aux_key] /= row[aux_key_ap4]"
   ]
  },
  {
   "cell_type": "markdown",
   "metadata": {},
   "source": [
    "### PHOT_APERTURES  1.85, 3.70, 5.55, 7.41, 11.11, 14.81, 18.52, 22.22, 25.93, 29.63, 44.44, 66.67   MAG_APER aperture diameter(s) in pixels"
   ]
  },
  {
   "cell_type": "code",
   "execution_count": null,
   "metadata": {
    "collapsed": true
   },
   "outputs": [],
   "source": [
    "PHOT_APERTURES = [1.85, 3.70, 5.55, 7.41, 11.11, 14.81, 18.52, 22.22, 25.93, 29.63, 44.44, 66.67]\n",
    "PHOT_APERTURES = [0.27 * x for x in PHOT_APERTURES]"
   ]
  },
  {
   "cell_type": "code",
   "execution_count": null,
   "metadata": {
    "collapsed": true
   },
   "outputs": [],
   "source": [
    "def plot_aper(df, band=\"g\", EXT_WAVG=0, FLAGS=0, IMAFLAGS=0):\n",
    "    aux0 = [\"{0}_MAG_APER_{1}\".format(band.upper(), x) for x in ap]\n",
    "    v5, v25, v50, v75, v95 = [], [], [], [], []\n",
    "\n",
    "    aux_flags = \"FLAGS_{0}\".format(band.upper())\n",
    "    aux_imaflags = \"IMAFLAGS_ISO_{0}\".format(band.upper())\n",
    "    cond = ((df[\"EXT_WAVG\"] == EXT_WAVG) & (df[aux_flags] <= FLAGS) & (df[aux_imaflags] == IMAFLAGS))\n",
    "    for c in aux0:\n",
    "        v5.append(np.percentile(df.loc[cond, c].values, 5))\n",
    "        v25.append(np.percentile(df.loc[cond, c].values, 25))\n",
    "        v50.append(np.percentile(df.loc[cond, c].values, 50))\n",
    "        v75.append(np.percentile(df.loc[cond, c].values, 75))\n",
    "        v95.append(np.percentile(df.loc[cond, c].values, 95))\n",
    "    \n",
    "    plt.close(\"all\")\n",
    "    fig, ax = plt.subplots(figsize=(8,6))\n",
    "    ax2 = ax.twiny()\n",
    "    \n",
    "    ax.plot(PHOT_APERTURES, v50, color=BAND_COLORS[band], linestyle=\"-\", lw=4, label=\"Median, {0}-band\".format(band))\n",
    "    ax.fill_between(PHOT_APERTURES, v25, v5, color=\"royalblue\", alpha=0.4)\n",
    "    ax.fill_between(PHOT_APERTURES, v95, v75, color=\"royalblue\", alpha=0.4)\n",
    "    ax.fill_between(PHOT_APERTURES, v50, v25, color=\"lightyellow\", alpha=0.8)\n",
    "    ax.fill_between(PHOT_APERTURES, v75, v50, color=\"lightyellow\", alpha=0.8)\n",
    "    \n",
    "    # New axis locations\n",
    "    new_tick_locations = PHOT_APERTURES\n",
    "    APER = np.arange(1, 13)\n",
    "    \n",
    "    plt.legend(loc=\"upper left\")\n",
    "    tt = \"{0}-band, contours for 5-25%, 25-75%, 75-95%.\".format(band)\n",
    "    tt += \" Sample of {0:.1E} objects.\\n {1}_MAG_AUTO < 21, EXT_WAVG={2}\".format(len(df.loc[cond].index), \n",
    "                                                                                band.upper(), EXT_WAVG)\n",
    "    tt += \", {0}<={1}, {2}={3}\".format(aux_flags, FLAGS, aux_imaflags, IMAFLAGS)\n",
    "    plt.suptitle(tt)\n",
    "    \n",
    "    ax.set_xlabel(r\"PHOT_APERTURES  $asec$\")\n",
    "    ax.set_ylabel(r\"MAG_APER - MAG_APER_4  $mag$\")\n",
    "    \n",
    "    ax.set_xlim(min(PHOT_APERTURES), max(PHOT_APERTURES))\n",
    "    #ax.set_ylim([min(v5), max(v95)])\n",
    "    \n",
    "    #  Values and tics for auxiliary x-axis\n",
    "    ax2.set_xlim(min(PHOT_APERTURES), max(PHOT_APERTURES))#[lim[0] * 3600 * 1000, lim[1] * 3600 * 1000])\n",
    "    ax2.set_xticks(new_tick_locations)\n",
    "    ax2.set_xticklabels(APER)\n",
    "    ax2.set_xlabel(r\"APER\")\n",
    "    #ax2.set_xlim([-6e-7 * 3600 * 1000, 6e-7 * 3600 * 1000]) # plt.xlim())\n",
    "    \n",
    "    \n",
    "    # Add minor tics\n",
    "    # Use Auto Minor Locator\n",
    "    minorLocator_x = AutoMinorLocator()\n",
    "    ax.xaxis.set_minor_locator(minorLocator_x)\n",
    "    minorLocator_y = AutoMinorLocator()\n",
    "    ax.yaxis.set_minor_locator(minorLocator_y)\n",
    "    #\n",
    "    minorLocator_x2 = AutoMinorLocator()\n",
    "    ax2.xaxis.set_minor_locator(minorLocator_x2)\n",
    "    \n",
    "    plt.subplots_adjust(top=0.81)\n",
    "    \n",
    "    outname = \"growth_{0}_extwavg{1}_flags{2}.png\".format(band, EXT_WAVG, FLAGS)\n",
    "    plt.savefig(outname, dpi=500, format=\"png\")"
   ]
  },
  {
   "cell_type": "markdown",
   "metadata": {},
   "source": [
    "### For EXT_WAVG==0"
   ]
  },
  {
   "cell_type": "code",
   "execution_count": null,
   "metadata": {
    "collapsed": false
   },
   "outputs": [],
   "source": [
    "plot_aper(df_aux1, band=\"g\", FLAGS=3)"
   ]
  },
  {
   "cell_type": "code",
   "execution_count": null,
   "metadata": {
    "collapsed": false
   },
   "outputs": [],
   "source": [
    "plot_aper(df_aux1, band=\"r\", FLAGS=3)"
   ]
  },
  {
   "cell_type": "code",
   "execution_count": null,
   "metadata": {
    "collapsed": false
   },
   "outputs": [],
   "source": [
    "plot_aper(df_aux1, band=\"i\", FLAGS=3)"
   ]
  },
  {
   "cell_type": "code",
   "execution_count": null,
   "metadata": {
    "collapsed": false
   },
   "outputs": [],
   "source": [
    "plot_aper(df_aux1, band=\"z\", FLAGS=3)"
   ]
  },
  {
   "cell_type": "code",
   "execution_count": null,
   "metadata": {
    "collapsed": false
   },
   "outputs": [],
   "source": [
    "plot_aper(df_aux1, band=\"Y\", FLAGS=3)"
   ]
  },
  {
   "cell_type": "markdown",
   "metadata": {},
   "source": [
    "### For EXT_WAVG==3"
   ]
  },
  {
   "cell_type": "code",
   "execution_count": null,
   "metadata": {
    "collapsed": false
   },
   "outputs": [],
   "source": [
    "plot_aper(df_aux1, band=\"g\", FLAGS=3, EXT_WAVG=3)"
   ]
  },
  {
   "cell_type": "code",
   "execution_count": null,
   "metadata": {
    "collapsed": false
   },
   "outputs": [],
   "source": [
    "plot_aper(df_aux1, band=\"r\", FLAGS=3, EXT_WAVG=3)"
   ]
  },
  {
   "cell_type": "code",
   "execution_count": null,
   "metadata": {
    "collapsed": false
   },
   "outputs": [],
   "source": [
    "plot_aper(df_aux1, band=\"i\", FLAGS=3, EXT_WAVG=3)"
   ]
  },
  {
   "cell_type": "code",
   "execution_count": null,
   "metadata": {
    "collapsed": false
   },
   "outputs": [],
   "source": [
    "plot_aper(df_aux1, band=\"z\", FLAGS=3, EXT_WAVG=3)"
   ]
  },
  {
   "cell_type": "code",
   "execution_count": null,
   "metadata": {
    "collapsed": false
   },
   "outputs": [],
   "source": [
    "plot_aper(df_aux1, band=\"Y\", FLAGS=3, EXT_WAVG=3)"
   ]
  },
  {
   "cell_type": "code",
   "execution_count": null,
   "metadata": {
    "collapsed": true
   },
   "outputs": [],
   "source": []
  }
 ],
 "metadata": {
  "kernelspec": {
   "display_name": "Python [anaconda3]",
   "language": "python",
   "name": "Python [anaconda3]"
  },
  "language_info": {
   "codemirror_mode": {
    "name": "ipython",
    "version": 3
   },
   "file_extension": ".py",
   "mimetype": "text/x-python",
   "name": "python",
   "nbconvert_exporter": "python",
   "pygments_lexer": "ipython3",
   "version": "3.6.3"
  }
 },
 "nbformat": 4,
 "nbformat_minor": 2
}
