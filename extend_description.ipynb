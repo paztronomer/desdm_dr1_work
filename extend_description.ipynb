{
 "cells": [
  {
   "cell_type": "markdown",
   "metadata": {},
   "source": [
    "# To expand the grouped table descriptions to a DB version"
   ]
  },
  {
   "cell_type": "code",
   "execution_count": 1,
   "metadata": {
    "collapsed": true
   },
   "outputs": [],
   "source": [
    "import numpy as np\n",
    "import pandas as pd"
   ]
  },
  {
   "cell_type": "code",
   "execution_count": 46,
   "metadata": {
    "collapsed": true
   },
   "outputs": [],
   "source": [
    "df_flux = pd.read_csv(\"logicOrder_dr1_flux_columns.csv\")\n",
    "df_mag = pd.read_csv(\"logicOrder_dr1_mag_columns.csv\")\n",
    "df_tile = pd.read_csv(\"logicOrder_dr1_tile_columns.csv\")\n",
    "df_main = pd.read_csv(\"logicOrder_dr1_main_columns.csv\")"
   ]
  },
  {
   "cell_type": "markdown",
   "metadata": {},
   "source": [
    "## Expand on a case-by-case (band, nside, aperture)"
   ]
  },
  {
   "cell_type": "code",
   "execution_count": 48,
   "metadata": {
    "collapsed": true
   },
   "outputs": [],
   "source": [
    "PHOT_APERTURES = [1.85, 3.70, 5.55, 7.41, 11.11, 14.81, 18.52, 22.22, 25.93, 29.63, 44.44, 66.67]"
   ]
  },
  {
   "cell_type": "code",
   "execution_count": 49,
   "metadata": {},
   "outputs": [],
   "source": [
    "def extend(df_tmp, out_tmp):\n",
    "    nm, txt = [], []\n",
    "    aux_b = \"{G,R,I,Z,Y}\"\n",
    "    aux_n = \"{32,64,1024,4096,16384}\"\n",
    "    aux_a = \"{1-12}\"\n",
    "    for index, row in df_tmp.iterrows():\n",
    "        # Band, no aperture\n",
    "        if (row[\"Column Name\"].find(aux_b) >= 0) and (row[\"Column Name\"].find(aux_a) < 0):\n",
    "            list_band = [\"g\", \"r\", \"i\", \"z\", \"Y\"]\n",
    "            for b in list_band:\n",
    "                s1 = row[\"One-line description\"][0].lower()\n",
    "                txt0 = list(row[\"One-line description\"])\n",
    "                txt0[0] = s1\n",
    "                txt0 = \"\".join(txt0)\n",
    "                aux_txt = \"{0}-band \".format(b) + txt0\n",
    "                aux_nm = row[\"Column Name\"].replace(aux_b, b.upper())\n",
    "                nm.append(aux_nm)\n",
    "                txt.append(aux_txt)\n",
    "        # Band and aperture\n",
    "        elif (row[\"Column Name\"].find(aux_b) >= 0) and (row[\"Column Name\"].find(aux_a) >= 0):\n",
    "            list_ap = np.arange(1, 13)\n",
    "            list_band = [\"g\", \"r\", \"i\", \"z\", \"Y\"]\n",
    "            for b in list_band:\n",
    "                for idx, ap in enumerate(list_ap):\n",
    "                    s1 = row[\"One-line description\"][0].lower()\n",
    "                    txt0 = list(row[\"One-line description\"])\n",
    "                    txt0[0] = s1\n",
    "                    txt0 = \"\".join(txt0)\n",
    "                    aux_txt = \"Aperture {1} equivalent to {2} [pixel], {0}-band \".format(b, ap, PHOT_APERTURES[idx]) \n",
    "                    aux_txt += txt0\n",
    "                    aux_nm = row[\"Column Name\"].replace(aux_b, b.upper())\n",
    "                    aux_nm = aux_nm.replace(aux_a, str(ap))\n",
    "                    nm.append(aux_nm)\n",
    "                    txt.append(aux_txt)\n",
    "        # Hpix\n",
    "        elif (row[\"Column Name\"].find(aux_n) >= 0):\n",
    "            list_n = aux_n.replace(\"{\", \"\").replace(\"}\", \"\").split(\",\")\n",
    "            for n in list_n:\n",
    "                aux_txt = row[\"One-line description\"]\n",
    "                aux_txt = aux_txt.replace(\"its NSIDE\", \"NSIDE={0}\".format(n))\n",
    "                aux_nm = row[\"Column Name\"]\n",
    "                aux_nm = aux_nm.replace(aux_n, n)\n",
    "                nm.append(aux_nm)\n",
    "                txt.append(aux_txt)\n",
    "        else:\n",
    "            nm.append(row[\"Column Name\"])\n",
    "            txt.append(row[\"One-line description\"])\n",
    "    # Create a DF with outputs\n",
    "    ext = pd.DataFrame({\"Column Name\":nm, \"Description\":txt})\n",
    "    ext.to_csv(out_tmp, index=False, header=True)\n",
    "    return True"
   ]
  },
  {
   "cell_type": "code",
   "execution_count": 50,
   "metadata": {},
   "outputs": [
    {
     "data": {
      "text/plain": [
       "True"
      ]
     },
     "execution_count": 50,
     "metadata": {},
     "output_type": "execute_result"
    }
   ],
   "source": [
    "extend(df_flux, \"extended_dr1_flux_columns.csv\")"
   ]
  },
  {
   "cell_type": "code",
   "execution_count": 51,
   "metadata": {},
   "outputs": [
    {
     "data": {
      "text/plain": [
       "True"
      ]
     },
     "execution_count": 51,
     "metadata": {},
     "output_type": "execute_result"
    }
   ],
   "source": [
    "extend(df_mag, \"extended_dr1_mag_columns.csv\")"
   ]
  },
  {
   "cell_type": "code",
   "execution_count": 52,
   "metadata": {},
   "outputs": [
    {
     "data": {
      "text/plain": [
       "True"
      ]
     },
     "execution_count": 52,
     "metadata": {},
     "output_type": "execute_result"
    }
   ],
   "source": [
    "extend(df_tile, \"extended_dr1_tile_columns.csv\")"
   ]
  },
  {
   "cell_type": "code",
   "execution_count": 53,
   "metadata": {},
   "outputs": [
    {
     "data": {
      "text/plain": [
       "True"
      ]
     },
     "execution_count": 53,
     "metadata": {},
     "output_type": "execute_result"
    }
   ],
   "source": [
    "extend(df_main, \"extended_dr1_main_columns.csv\")"
   ]
  }
 ],
 "metadata": {
  "kernelspec": {
   "display_name": "Python 3",
   "language": "python",
   "name": "python3"
  },
  "language_info": {
   "codemirror_mode": {
    "name": "ipython",
    "version": 3
   },
   "file_extension": ".py",
   "mimetype": "text/x-python",
   "name": "python",
   "nbconvert_exporter": "python",
   "pygments_lexer": "ipython3",
   "version": "3.6.3"
  }
 },
 "nbformat": 4,
 "nbformat_minor": 2
}
