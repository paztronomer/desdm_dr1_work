{
 "cells": [
  {
   "cell_type": "code",
   "execution_count": 1,
   "metadata": {
    "collapsed": true
   },
   "outputs": [],
   "source": [
    "import os\n",
    "import sys\n",
    "import time\n",
    "import numpy as np\n",
    "import fitsio\n",
    "import matplotlib.pyplot as plt\n",
    "import vaex as vx\n",
    "%matplotlib inline"
   ]
  },
  {
   "cell_type": "code",
   "execution_count": 2,
   "metadata": {
    "collapsed": true
   },
   "outputs": [],
   "source": [
    "def get_all(pattern, columns=None):\n",
    "    if (not isinstance(columns, list)):\n",
    "        print(\"If no list of keys is input, then all are retrieved\")\n",
    "    tabls = []\n",
    "    counter = True\n",
    "    t0 = time.time()\n",
    "    for root, dirnm, filenm in os.walk(os.getcwd()):\n",
    "        for idx, f in enumerate(filenm):\n",
    "            if (pattern in f):\n",
    "                tabls.append(f)\n",
    "                hdu = fitsio.FITS(f)\n",
    "                if counter:\n",
    "                    if (columns is None):\n",
    "                        r_arr = hdu[1].read()\n",
    "                    else:\n",
    "                        r_arr = hdu[1].read()[columns]\n",
    "                    counter = False\n",
    "                else:\n",
    "                    if (columns is None):\n",
    "                        r_arr = np.concatenate((r_arr, hdu[1].read()))\n",
    "                    else:\n",
    "                        r_arr = np.concatenate((r_arr, hdu[1].read()[columns]))\n",
    "                hdu.close()\n",
    "                print(\"{0} loaded\".format(f))\n",
    "    print(\"Elapsed time in reading the FITS: {0:.2f} min\".format((time.time() - t0) / 60.))\n",
    "    return r_arr"
   ]
  },
  {
   "cell_type": "code",
   "execution_count": 3,
   "metadata": {},
   "outputs": [
    {
     "name": "stdout",
     "output_type": "stream",
     "text": [
      "If no list of keys is input, then all are retrieved\n",
      "DR1_MAIN_ABTHETA_000001.fits loaded\n",
      "DR1_MAIN_ABTHETA_000002.fits loaded\n",
      "DR1_MAIN_ABTHETA_000003.fits loaded\n",
      "DR1_MAIN_ABTHETA_000004.fits loaded\n",
      "DR1_MAIN_ABTHETA_000005.fits loaded\n",
      "DR1_MAIN_ABTHETA_000006.fits loaded\n",
      "DR1_MAIN_ABTHETA_000007.fits loaded\n",
      "Elapsed time in reading the FITS: 1.29 min\n"
     ]
    }
   ],
   "source": [
    "# Read the A, B, and THETA info\n",
    "abt = get_all(\"DR1_MAIN_ABTHETA_\")\n",
    "# Sort it\n",
    "idx_abt = np.argsort(abt[\"COADD_OBJECT_ID\"])\n",
    "abt = abt[idx_abt]"
   ]
  },
  {
   "cell_type": "code",
   "execution_count": 4,
   "metadata": {},
   "outputs": [
    {
     "name": "stdout",
     "output_type": "stream",
     "text": [
      "If no list of keys is input, then all are retrieved\n",
      "BECHTOL.Y3A2_EXT_MASH_V2_WAVG_COADD_000001.fits loaded\n",
      "BECHTOL.Y3A2_EXT_MASH_V2_WAVG_COADD_000002.fits loaded\n",
      "BECHTOL.Y3A2_EXT_MASH_V2_WAVG_COADD_000003.fits loaded\n",
      "BECHTOL.Y3A2_EXT_MASH_V2_WAVG_COADD_000004.fits loaded\n",
      "BECHTOL.Y3A2_EXT_MASH_V2_WAVG_COADD_000005.fits loaded\n",
      "Elapsed time in reading the FITS: 0.68 min\n"
     ]
    }
   ],
   "source": [
    "# Read the Star/Galaxy separation table: ('COADD_OBJECT_ID', 'EXT_WAVG', 'EXT_COADD')\n",
    "sg = get_all(\"BECHTOL.Y3A2_EXT_MASH_V2_WAVG_COADD_\")\n",
    "# Sort it\n",
    "idx_sg = np.argsort(sg[\"EXT_WAVG\"])\n",
    "sg = sg[idx_sg]"
   ]
  },
  {
   "cell_type": "code",
   "execution_count": 44,
   "metadata": {},
   "outputs": [
    {
     "name": "stdout",
     "output_type": "stream",
     "text": [
      "Percentage of the total sample: 57.38%\n"
     ]
    }
   ],
   "source": [
    "print(\"Percentage of the total sample: {0:.2f}%\".format(abt.shape[0]/4.e8 * 100.))"
   ]
  },
  {
   "cell_type": "code",
   "execution_count": 5,
   "metadata": {
    "collapsed": true
   },
   "outputs": [],
   "source": [
    "# Split COADD_OBJ_ID in groups, using the WAVG classificator\n",
    "aux_sg = [sg[np.where(sg[\"EXT_WAVG\"] == x)][\"COADD_OBJECT_ID\"] for x in [0, 1, 2, 3]]"
   ]
  },
  {
   "cell_type": "code",
   "execution_count": 7,
   "metadata": {},
   "outputs": [
    {
     "name": "stdout",
     "output_type": "stream",
     "text": [
      "xmatch was successful\n"
     ]
    }
   ],
   "source": [
    "# Using the objects IDs, get the indices of each of the d/g classes\n",
    "xm_sg_idx = [np.where(np.in1d(abt[\"COADD_OBJECT_ID\"], subclassif)) for subclassif in aux_sg]\n",
    "print(\"xmatch was successful\")"
   ]
  },
  {
   "cell_type": "code",
   "execution_count": 16,
   "metadata": {},
   "outputs": [
    {
     "name": "stdout",
     "output_type": "stream",
     "text": [
      "Columns and its data types: \n",
      "\t[('A_IMAGE', '>f8'), ('B_IMAGE', '>f8'), ('THETA_J2000', '>f8'), ('COADD_OBJECT_ID', '>i8')] \n",
      "\t[('COADD_OBJECT_ID', '>i8'), ('EXT_WAVG', '>i2'), ('EXT_COADD', '>i2')]\n"
     ]
    }
   ],
   "source": [
    "print(\"Columns and its data types: \\n\\t{0} \\n\\t{1}\".format(abt.dtype, sg.dtype))"
   ]
  },
  {
   "cell_type": "code",
   "execution_count": 12,
   "metadata": {},
   "outputs": [],
   "source": [
    "# Using each one of the classes separately, do the A, B, THETA distributions\n",
    "# Import into vaex\n",
    "# Data for star classifications\n",
    "ds0 = vx.from_arrays(A=abt[xm_sg_idx[0]][\"A_IMAGE\"], B=abt[xm_sg_idx[0]][\"B_IMAGE\"], \n",
    "                     T=abt[xm_sg_idx[0]][\"THETA_J2000\"]\n",
    "                    )\n",
    "ds1 = vx.from_arrays(A=abt[xm_sg_idx[1]][\"A_IMAGE\"], B=abt[xm_sg_idx[1]][\"B_IMAGE\"], \n",
    "                     T=abt[xm_sg_idx[1]][\"THETA_J2000\"]\n",
    "                    )"
   ]
  },
  {
   "cell_type": "code",
   "execution_count": 13,
   "metadata": {
    "collapsed": true
   },
   "outputs": [],
   "source": [
    "# Data for galaxy classifications\n",
    "ds2 = vx.from_arrays(A=abt[xm_sg_idx[2]][\"A_IMAGE\"], B=abt[xm_sg_idx[2]][\"B_IMAGE\"], \n",
    "                     T=abt[xm_sg_idx[2]][\"THETA_J2000\"]\n",
    "                    )\n",
    "ds3 = vx.from_arrays(A=abt[xm_sg_idx[3]][\"A_IMAGE\"], B=abt[xm_sg_idx[3]][\"B_IMAGE\"], \n",
    "                     T=abt[xm_sg_idx[3]][\"THETA_J2000\"]\n",
    "                    )"
   ]
  },
  {
   "cell_type": "code",
   "execution_count": 56,
   "metadata": {},
   "outputs": [
    {
     "data": {
      "image/png": "[encoded data removed]",
      "text/plain": [
       "<matplotlib.figure.Figure at 0x112429358>"
      ]
     },
     "metadata": {},
     "output_type": "display_data"
    }
   ],
   "source": [
    "# Theta distribution\n",
    "kw = {\n",
    "    \"what\": \"count(*)\",\n",
    "    \"n\": \"normalize\",\n",
    "}\n",
    "a = ds0.plot1d(\"T\", color=\"gray\", label=\"Class:0, high confidence stars\", figsize=(8,6), **kw)\n",
    "a = ds1.plot1d(\"T\", color=\"magenta\", label=\"Class:1, mostly stars\", **kw)\n",
    "a = ds2.plot1d(\"T\", color=\"cyan\", label=\"Class:2, mostly galaxies\", **kw)\n",
    "a = ds3.plot1d(\"T\", color=\"red\", label=\"Class:3, high confidence galaxies\", **kw)\n",
    "plt.legend(loc=\"upper right\", fancybox=True)\n",
    "plt.xlabel(r\"$\\theta$  degrees from E to N\")\n",
    "plt.ylabel(\"Normalized frequency\")\n",
    "plt.title(r\"Distribution of THETA_J2000, sample of {0:.2f}%. Using EXT_WAVG classification\".format(abt.shape[0]/4.e8 * 100.))\n",
    "plt.savefig(\"theta_subsample.png\", format=\"png\", dpi=500)"
   ]
  },
  {
   "cell_type": "code",
   "execution_count": null,
   "metadata": {},
   "outputs": [],
   "source": []
  },
  {
   "cell_type": "code",
   "execution_count": null,
   "metadata": {
    "collapsed": true
   },
   "outputs": [],
   "source": []
  },
  {
   "cell_type": "code",
   "execution_count": null,
   "metadata": {
    "collapsed": true
   },
   "outputs": [],
   "source": []
  }
 ],
 "metadata": {
  "kernelspec": {
   "display_name": "Python 3",
   "language": "python",
   "name": "python3"
  },
  "language_info": {
   "codemirror_mode": {
    "name": "ipython",
    "version": 3
   },
   "file_extension": ".py",
   "mimetype": "text/x-python",
   "name": "python",
   "nbconvert_exporter": "python",
   "pygments_lexer": "ipython3",
   "version": "3.6.3"
  }
 },
 "nbformat": 4,
 "nbformat_minor": 2
}
