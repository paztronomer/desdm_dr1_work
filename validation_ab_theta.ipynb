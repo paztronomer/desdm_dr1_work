{
 "cells": [
  {
   "cell_type": "code",
   "execution_count": 73,
   "metadata": {
    "collapsed": true
   },
   "outputs": [],
   "source": [
    "import os\n",
    "import sys\n",
    "import time\n",
    "import numpy as np\n",
    "import fitsio\n",
    "import pickle\n",
    "import matplotlib.pyplot as plt\n",
    "from matplotlib.ticker import AutoMinorLocator\n",
    "import vaex as vx\n",
    "%matplotlib inline"
   ]
  },
  {
   "cell_type": "markdown",
   "metadata": {},
   "source": [
    "# Validation plots for sextractor geometrical quantities: a, b, theta"
   ]
  },
  {
   "cell_type": "code",
   "execution_count": 2,
   "metadata": {
    "collapsed": true
   },
   "outputs": [],
   "source": [
    "def get_all(pattern, columns=None):\n",
    "    if (not isinstance(columns, list)):\n",
    "        print(\"If no list of keys is input, then all are retrieved\")\n",
    "    tabls = []\n",
    "    counter = True\n",
    "    t0 = time.time()\n",
    "    for root, dirnm, filenm in os.walk(os.getcwd()):\n",
    "        for idx, f in enumerate(filenm):\n",
    "            if (pattern in f):\n",
    "                tabls.append(f)\n",
    "                hdu = fitsio.FITS(f)\n",
    "                if counter:\n",
    "                    if (columns is None):\n",
    "                        r_arr = hdu[1].read()\n",
    "                    else:\n",
    "                        r_arr = hdu[1].read()[columns]\n",
    "                    counter = False\n",
    "                else:\n",
    "                    if (columns is None):\n",
    "                        r_arr = np.concatenate((r_arr, hdu[1].read()))\n",
    "                    else:\n",
    "                        r_arr = np.concatenate((r_arr, hdu[1].read()[columns]))\n",
    "                hdu.close()\n",
    "                print(\"{0} loaded\".format(f))\n",
    "    print(\"Elapsed time in reading the FITS: {0:.2f} min\".format((time.time() - t0) / 60.))\n",
    "    return r_arr"
   ]
  },
  {
   "cell_type": "markdown",
   "metadata": {},
   "source": [
    "## Read the data for the entire sample"
   ]
  },
  {
   "cell_type": "code",
   "execution_count": 3,
   "metadata": {},
   "outputs": [
    {
     "name": "stdout",
     "output_type": "stream",
     "text": [
      "If no list of keys is input, then all are retrieved\n",
      "DR1_MAIN_ABTHETA_000001.fits loaded\n",
      "DR1_MAIN_ABTHETA_000002.fits loaded\n",
      "DR1_MAIN_ABTHETA_000003.fits loaded\n",
      "DR1_MAIN_ABTHETA_000004.fits loaded\n",
      "DR1_MAIN_ABTHETA_000005.fits loaded\n",
      "DR1_MAIN_ABTHETA_000006.fits loaded\n",
      "DR1_MAIN_ABTHETA_000007.fits loaded\n",
      "Elapsed time in reading the FITS: 1.20 min\n"
     ]
    }
   ],
   "source": [
    "# Read the A, B, and THETA info\n",
    "abt = get_all(\"DR1_MAIN_ABTHETA_\")\n",
    "# Sort it\n",
    "idx_abt = np.argsort(abt[\"COADD_OBJECT_ID\"])\n",
    "abt = abt[idx_abt]"
   ]
  },
  {
   "cell_type": "code",
   "execution_count": 4,
   "metadata": {},
   "outputs": [
    {
     "name": "stdout",
     "output_type": "stream",
     "text": [
      "If no list of keys is input, then all are retrieved\n",
      "BECHTOL.Y3A2_EXT_MASH_V2_WAVG_COADD_000001.fits loaded\n",
      "BECHTOL.Y3A2_EXT_MASH_V2_WAVG_COADD_000002.fits loaded\n",
      "BECHTOL.Y3A2_EXT_MASH_V2_WAVG_COADD_000003.fits loaded\n",
      "BECHTOL.Y3A2_EXT_MASH_V2_WAVG_COADD_000004.fits loaded\n",
      "BECHTOL.Y3A2_EXT_MASH_V2_WAVG_COADD_000005.fits loaded\n",
      "Elapsed time in reading the FITS: 0.58 min\n"
     ]
    }
   ],
   "source": [
    "# Read the Star/Galaxy separation table: ('COADD_OBJECT_ID', 'EXT_WAVG', 'EXT_COADD')\n",
    "sg = get_all(\"BECHTOL.Y3A2_EXT_MASH_V2_WAVG_COADD_\")\n",
    "# Sort it by WAVG classif\n",
    "idx_sg = np.argsort(sg[\"EXT_WAVG\"])\n",
    "sg = sg[idx_sg]"
   ]
  },
  {
   "cell_type": "code",
   "execution_count": 5,
   "metadata": {},
   "outputs": [
    {
     "name": "stdout",
     "output_type": "stream",
     "text": [
      "Percentage of the total sample: 57%\n"
     ]
    }
   ],
   "source": [
    "print(\"Percentage of the total sample: {0}%\".format(round(abt.shape[0]/4.e8 * 100.)))"
   ]
  },
  {
   "cell_type": "code",
   "execution_count": 6,
   "metadata": {
    "collapsed": true
   },
   "outputs": [],
   "source": [
    "# Split COADD_OBJ_ID in groups, using the WAVG classificator\n",
    "# aux_sg = [sg[np.where(sg[\"EXT_WAVG\"] == x)][\"COADD_OBJECT_ID\"] for x in [0, 1, 2, 3]]\n",
    "idx_sg = [np.where(sg[\"EXT_WAVG\"] == x) for x in [0, 1, 2, 3]]"
   ]
  },
  {
   "cell_type": "code",
   "execution_count": 7,
   "metadata": {},
   "outputs": [
    {
     "name": "stdout",
     "output_type": "stream",
     "text": [
      "Grouped and sorted in 2.02 min\n"
     ]
    }
   ],
   "source": [
    "# Apply the indices of each group to the main array, creating as many sub arrays as class groups. \n",
    "# group_sg = [sg[y] for y in idx_sg]\n",
    "t0 = time.time()\n",
    "group_sg = []\n",
    "for g in idx_sg:\n",
    "    tmp = sg[g]\n",
    "    tmp_idx = np.argsort(tmp[\"COADD_OBJECT_ID\"])\n",
    "    group_sg.append(tmp[tmp_idx])\n",
    "t1 = time.time()\n",
    "print(\"Grouped and sorted in {0:.2f} min\".format((t1 - t0)/60.))"
   ]
  },
  {
   "cell_type": "markdown",
   "metadata": {},
   "source": [
    "### Crossmatch the IDs from the group classifications against the table value. When comparing the performance of np.where(np.in1d()) against recf.join_by(), the first was faster"
   ]
  },
  {
   "cell_type": "code",
   "execution_count": 13,
   "metadata": {},
   "outputs": [
    {
     "name": "stdout",
     "output_type": "stream",
     "text": [
      "xmatch was successful\n"
     ]
    }
   ],
   "source": [
    "# Using the objects IDs, get the indices of each of the s/g classes\n",
    "xm_sg_idx = [np.where(np.in1d(abt[\"COADD_OBJECT_ID\"], sgroup[\"COADD_OBJECT_ID\"])) for sgroup in group_sg]\n",
    "print(\"xmatch was successful\")"
   ]
  },
  {
   "cell_type": "code",
   "execution_count": 14,
   "metadata": {},
   "outputs": [
    {
     "name": "stdout",
     "output_type": "stream",
     "text": [
      "Columns and its data types: \n",
      "\t[('A_IMAGE', '>f8'), ('B_IMAGE', '>f8'), ('THETA_J2000', '>f8'), ('COADD_OBJECT_ID', '>i8')] \n",
      "\t[('COADD_OBJECT_ID', '>i8'), ('EXT_WAVG', '>i2'), ('EXT_COADD', '>i2')]\n"
     ]
    }
   ],
   "source": [
    "print(\"Columns and its data types: \\n\\t{0} \\n\\t{1}\".format(abt.dtype, sg.dtype))"
   ]
  },
  {
   "cell_type": "markdown",
   "metadata": {},
   "source": [
    "### Backup in case of need"
   ]
  },
  {
   "cell_type": "code",
   "execution_count": 17,
   "metadata": {
    "collapsed": true
   },
   "outputs": [],
   "source": [
    "pickle.dump(xm_sg_idx, open(\"xm_sg_idx.pickle\", \"wb\"))"
   ]
  },
  {
   "cell_type": "code",
   "execution_count": null,
   "metadata": {
    "collapsed": true
   },
   "outputs": [],
   "source": [
    "xm_sg_idx = pickle.load(open(\"xm_sg_idx.pickle\", \"rb\"))"
   ]
  },
  {
   "cell_type": "markdown",
   "metadata": {},
   "source": [
    "### abt was not pickle-d because the larger size pickle can manage is 4 GiB"
   ]
  },
  {
   "cell_type": "markdown",
   "metadata": {},
   "source": [
    "## Import to vaex"
   ]
  },
  {
   "cell_type": "markdown",
   "metadata": {},
   "source": [
    "### Star classes"
   ]
  },
  {
   "cell_type": "code",
   "execution_count": 19,
   "metadata": {
    "collapsed": true
   },
   "outputs": [],
   "source": [
    "# Using each one of the classes separately, do the A, B, THETA distributions\n",
    "# Note: a better way is to use 'selection' under vaex \n",
    "# Import into vaex\n",
    "# Data for star classifications\n",
    "ds0 = vx.from_arrays(A=abt[xm_sg_idx[0]][\"A_IMAGE\"], \n",
    "                     B=abt[xm_sg_idx[0]][\"B_IMAGE\"], \n",
    "                     BA=abt[xm_sg_idx[0]][\"B_IMAGE\"]/abt[xm_sg_idx[0]][\"A_IMAGE\"],\n",
    "                     T=abt[xm_sg_idx[0]][\"THETA_J2000\"]\n",
    "                    )\n",
    "ds1 = vx.from_arrays(A=abt[xm_sg_idx[1]][\"A_IMAGE\"], \n",
    "                     B=abt[xm_sg_idx[1]][\"B_IMAGE\"], \n",
    "                     BA=abt[xm_sg_idx[1]][\"B_IMAGE\"]/abt[xm_sg_idx[1]][\"A_IMAGE\"],\n",
    "                     T=abt[xm_sg_idx[1]][\"THETA_J2000\"]\n",
    "                    )"
   ]
  },
  {
   "cell_type": "markdown",
   "metadata": {},
   "source": [
    "### Galaxy classes"
   ]
  },
  {
   "cell_type": "code",
   "execution_count": 20,
   "metadata": {
    "collapsed": true
   },
   "outputs": [],
   "source": [
    "# Data for galaxy classifications\n",
    "ds2 = vx.from_arrays(A=abt[xm_sg_idx[2]][\"A_IMAGE\"], \n",
    "                     B=abt[xm_sg_idx[2]][\"B_IMAGE\"], \n",
    "                     BA=abt[xm_sg_idx[2]][\"B_IMAGE\"]/abt[xm_sg_idx[2]][\"A_IMAGE\"],\n",
    "                     T=abt[xm_sg_idx[2]][\"THETA_J2000\"]\n",
    "                    )\n",
    "ds3 = vx.from_arrays(A=abt[xm_sg_idx[3]][\"A_IMAGE\"], \n",
    "                     B=abt[xm_sg_idx[3]][\"B_IMAGE\"],\n",
    "                     BA=abt[xm_sg_idx[3]][\"B_IMAGE\"]/abt[xm_sg_idx[3]][\"A_IMAGE\"],\n",
    "                     T=abt[xm_sg_idx[3]][\"THETA_J2000\"]\n",
    "                    )"
   ]
  },
  {
   "cell_type": "markdown",
   "metadata": {},
   "source": [
    "### Plotting b/a distribution, while closer to 1 then e~0"
   ]
  },
  {
   "cell_type": "code",
   "execution_count": 74,
   "metadata": {},
   "outputs": [
    {
     "data": {
      "image/png": "[encoded data removed]",
      "text/plain": [
       "<matplotlib.figure.Figure at 0x11cdaac88>"
      ]
     },
     "metadata": {},
     "output_type": "display_data"
    }
   ],
   "source": [
    "plt.close(\"all\")\n",
    "fig, ax1 = plt.subplots(figsize=(8,6))\n",
    "ax2 = ax1.twiny()\n",
    "\n",
    "# Make the plot\n",
    "# VERY important to set limits here, this way they match them overlaping axis\n",
    "lim = [0.35, 1.]\n",
    "kw = {\n",
    "    \"what\": \"count(*)\",\n",
    "    \"n\": \"normalize\",\n",
    "    \"limits\":lim,\n",
    "}\n",
    "a = ds0.plot1d(\"BA\", color=\"gray\", label=\"Class:0, high confidence stars\", **kw)\n",
    "a = ds1.plot1d(\"BA\", color=\"magenta\", label=\"Class:1, mostly stars\", **kw)\n",
    "a = ds2.plot1d(\"BA\", color=\"cyan\", label=\"Class:2, mostly galaxies\", **kw)\n",
    "a = ds3.plot1d(\"BA\", color=\"red\", label=\"Class:3, high confidence galaxies\", **kw)\n",
    "plt.legend(loc=\"upper left\", fancybox=True)\n",
    "\n",
    "# Initial plot setup\n",
    "ax1.set_xlim(lim)\n",
    "ax1.set_xlabel(r\"$\\frac{b}{a}$\")\n",
    "ax1.set_ylabel(\"Normalized frequency\")\n",
    "\n",
    "# Setup tics\n",
    "new_tick_locations = np.array([.4, .5, .6, .7, .8, .9, 1.])\n",
    "def tick_function(x):\n",
    "    res = np.sqrt(1 - np.power(x, 2))\n",
    "    return [\"%.2f\" % z for z in res]\n",
    "\n",
    "# Set the limits based on initial plot\n",
    "# ax2.set_xlim(ax1.get_xlim())\n",
    "ax2.set_xlim(lim) # plt.xlim())\n",
    "\n",
    "#  Values and tics\n",
    "ax2.set_xticks(new_tick_locations)\n",
    "ax2.set_xticklabels(tick_function(new_tick_locations))\n",
    "ax2.set_xlabel(r\"Eccentricity\")\n",
    "\n",
    "# Add minor tics\n",
    "# Use Auto Minor Locator\n",
    "minorLocator_x = AutoMinorLocator()\n",
    "ax1.xaxis.set_minor_locator(minorLocator_x)\n",
    "minorLocator_y = AutoMinorLocator()\n",
    "ax1.yaxis.set_minor_locator(minorLocator_y)\n",
    "# Use Auto Minor Locator\n",
    "minorLocator_x = AutoMinorLocator()\n",
    "ax2.xaxis.set_minor_locator(minorLocator_x)\n",
    "minorLocator_y = AutoMinorLocator()\n",
    "\n",
    "plt.suptitle(r\"Distribution of B_IMAGE/A_IMAGE, sample of {0}%. Using EXT_WAVG classification\".format(round(abt.shape[0]/4.e8 * 100.)))\n",
    "plt.subplots_adjust(top=0.85, left=0.2)\n",
    "plt.savefig(\"ba_subsample.png\", format=\"png\", dpi=500)"
   ]
  },
  {
   "cell_type": "code",
   "execution_count": 93,
   "metadata": {},
   "outputs": [
    {
     "data": {
      "image/png": "[encoded data removed]",
      "text/plain": [
       "<matplotlib.figure.Figure at 0x11cd8e278>"
      ]
     },
     "metadata": {},
     "output_type": "display_data"
    }
   ],
   "source": [
    "# Theta distribution\n",
    "plt.close(\"all\")\n",
    "fig, ax1 = plt.subplots(figsize=(8,6))\n",
    "\n",
    "# Make the plot\n",
    "lim = [-90, 90]\n",
    "kw = {\n",
    "    \"what\": \"count(*)\",\n",
    "    \"n\": \"normalize\",\n",
    "    \"limits\":lim,\n",
    "}\n",
    "a = ds0.plot1d(\"T\", color=\"gray\", label=\"Class:0, high confidence stars\", **kw)\n",
    "a = ds1.plot1d(\"T\", color=\"magenta\", label=\"Class:1, mostly stars\", **kw)\n",
    "a = ds2.plot1d(\"T\", color=\"cyan\", label=\"Class:2, mostly galaxies\", **kw)\n",
    "a = ds3.plot1d(\"T\", color=\"red\", label=\"Class:3, high confidence galaxies\", **kw)\n",
    "plt.legend(loc=\"upper right\", fancybox=True)\n",
    "\n",
    "# Add vertical lines on 45 deg and in others\n",
    "for i in [-90, -45, 0, 45, 90]:\n",
    "    ax1.axvline(x=i, color=\"limegreen\", linestyle=\"-.\")\n",
    "    ax1.text(i, 0.0125, \"{0}\".format(i), color=\"red\")\n",
    "\n",
    "# Add minor tics\n",
    "# Use Auto Minor Locator\n",
    "minorLocator_x = AutoMinorLocator()\n",
    "ax1.xaxis.set_minor_locator(minorLocator_x)\n",
    "minorLocator_y = AutoMinorLocator()\n",
    "ax1.yaxis.set_minor_locator(minorLocator_y)\n",
    "\n",
    "plt.xlabel(r\"$\\theta$  degrees from E to N\")\n",
    "plt.ylabel(\"Normalized frequency\")\n",
    "plt.title(r\"Distribution of THETA_J2000, sample of {0}%. Using EXT_WAVG classification\".format(round(abt.shape[0]/4.e8 * 100.)))\n",
    "plt.subplots_adjust(top=0.85)\n",
    "plt.savefig(\"theta_subsample.png\", format=\"png\", dpi=500)"
   ]
  },
  {
   "cell_type": "code",
   "execution_count": null,
   "metadata": {
    "collapsed": true
   },
   "outputs": [],
   "source": []
  },
  {
   "cell_type": "code",
   "execution_count": null,
   "metadata": {
    "collapsed": true
   },
   "outputs": [],
   "source": []
  }
 ],
 "metadata": {
  "kernelspec": {
   "display_name": "Python 3",
   "language": "python",
   "name": "python3"
  },
  "language_info": {
   "codemirror_mode": {
    "name": "ipython",
    "version": 3
   },
   "file_extension": ".py",
   "mimetype": "text/x-python",
   "name": "python",
   "nbconvert_exporter": "python",
   "pygments_lexer": "ipython3",
   "version": "3.6.3"
  }
 },
 "nbformat": 4,
 "nbformat_minor": 2
}
